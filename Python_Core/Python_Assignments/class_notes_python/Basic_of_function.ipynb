{
  "nbformat": 4,
  "nbformat_minor": 0,
  "metadata": {
    "kernelspec": {
      "display_name": "Python 3",
      "language": "python",
      "name": "python3"
    },
    "language_info": {
      "codemirror_mode": {
        "name": "ipython",
        "version": 3
      },
      "file_extension": ".py",
      "mimetype": "text/x-python",
      "name": "python",
      "nbconvert_exporter": "python",
      "pygments_lexer": "ipython3",
      "version": "3.8.5"
    },
    "colab": {
      "name": "Basic of function.ipynb",
      "provenance": [],
      "include_colab_link": true
    }
  },
  "cells": [
    {
      "cell_type": "markdown",
      "metadata": {
        "id": "view-in-github",
        "colab_type": "text"
      },
      "source": [
        "<a href=\"https://colab.research.google.com/github/Sai-Kale/ML_ineuron/blob/master/Python_Core/Python_Assignments/class_notes_python/Basic_of_function.ipynb\" target=\"_parent\"><img src=\"https://colab.research.google.com/assets/colab-badge.svg\" alt=\"Open In Colab\"/></a>"
      ]
    },
    {
      "cell_type": "code",
      "metadata": {
        "id": "_epPjBv6OVll"
      },
      "source": [
        "s = \"sudh\""
      ],
      "execution_count": null,
      "outputs": []
    },
    {
      "cell_type": "code",
      "metadata": {
        "id": "vgL1W5acOVlo",
        "outputId": "549d16f0-272a-45c4-dadd-0f8110f8b9dc"
      },
      "source": [
        "len(s)"
      ],
      "execution_count": null,
      "outputs": [
        {
          "output_type": "execute_result",
          "data": {
            "text/plain": [
              "4"
            ]
          },
          "metadata": {
            "tags": []
          },
          "execution_count": 2
        }
      ]
    },
    {
      "cell_type": "code",
      "metadata": {
        "id": "8UNnGd0QOVlp",
        "outputId": "05e4146a-a52b-478d-f168-36389694a706"
      },
      "source": [
        "print(s)"
      ],
      "execution_count": null,
      "outputs": [
        {
          "output_type": "stream",
          "text": [
            "sudh\n"
          ],
          "name": "stdout"
        }
      ]
    },
    {
      "cell_type": "code",
      "metadata": {
        "id": "sEToEir0OVlp"
      },
      "source": [
        "def test():\n",
        "    pass"
      ],
      "execution_count": null,
      "outputs": []
    },
    {
      "cell_type": "code",
      "metadata": {
        "id": "FKwLEQ2XOVlq"
      },
      "source": [
        "test()"
      ],
      "execution_count": null,
      "outputs": []
    },
    {
      "cell_type": "code",
      "metadata": {
        "id": "9U9B10rIOVlq"
      },
      "source": [
        "def test1():\n",
        "    print(\"this is my first fun\")"
      ],
      "execution_count": null,
      "outputs": []
    },
    {
      "cell_type": "code",
      "metadata": {
        "id": "vJoiHx3mOVlq",
        "outputId": "4d19450c-4d8c-4bf9-a4ba-0de2792e31d6"
      },
      "source": [
        "print(\"this is my first fun\")"
      ],
      "execution_count": null,
      "outputs": [
        {
          "output_type": "stream",
          "text": [
            "this is my first fun\n"
          ],
          "name": "stdout"
        }
      ]
    },
    {
      "cell_type": "code",
      "metadata": {
        "id": "_dN1Z9waOVlr",
        "outputId": "bde34233-17b5-40f3-d5ad-089eba0644ce"
      },
      "source": [
        "test1()"
      ],
      "execution_count": null,
      "outputs": [
        {
          "output_type": "stream",
          "text": [
            "this is my first fun\n"
          ],
          "name": "stdout"
        }
      ]
    },
    {
      "cell_type": "code",
      "metadata": {
        "id": "CJ6ZRQ2IOVlr",
        "outputId": "26d2e107-3dd6-4394-ced4-4c95b4421876"
      },
      "source": [
        "test1()"
      ],
      "execution_count": null,
      "outputs": [
        {
          "output_type": "stream",
          "text": [
            "this is my first fun\n"
          ],
          "name": "stdout"
        }
      ]
    },
    {
      "cell_type": "code",
      "metadata": {
        "id": "-vKg3adOOVls",
        "outputId": "b764f1a9-a80e-46dd-a723-c5f817f3bbcd"
      },
      "source": [
        "test1()"
      ],
      "execution_count": null,
      "outputs": [
        {
          "output_type": "stream",
          "text": [
            "this is my first fun\n"
          ],
          "name": "stdout"
        }
      ]
    },
    {
      "cell_type": "code",
      "metadata": {
        "id": "jWSXKwMCOVls",
        "outputId": "388f3077-9dca-421d-f6eb-8ea1b229f974"
      },
      "source": [
        "test1()"
      ],
      "execution_count": null,
      "outputs": [
        {
          "output_type": "stream",
          "text": [
            "this is my first fun\n"
          ],
          "name": "stdout"
        }
      ]
    },
    {
      "cell_type": "code",
      "metadata": {
        "id": "mg20YYm9OVlt",
        "outputId": "00c24b83-9643-4662-b413-8b1ce1a8b0e5"
      },
      "source": [
        "for i in range(10):\n",
        "    test1()"
      ],
      "execution_count": null,
      "outputs": [
        {
          "output_type": "stream",
          "text": [
            "this is my first fun\n",
            "this is my first fun\n",
            "this is my first fun\n",
            "this is my first fun\n",
            "this is my first fun\n",
            "this is my first fun\n",
            "this is my first fun\n",
            "this is my first fun\n",
            "this is my first fun\n",
            "this is my first fun\n"
          ],
          "name": "stdout"
        }
      ]
    },
    {
      "cell_type": "code",
      "metadata": {
        "id": "nxlP0kdkOVlu"
      },
      "source": [
        "def test2(a,b):\n",
        "    print(a,b)\n",
        "    "
      ],
      "execution_count": null,
      "outputs": []
    },
    {
      "cell_type": "code",
      "metadata": {
        "id": "Xk7ZbaLQOVlu",
        "outputId": "d6fbf27f-5975-413d-c406-6dae215f52aa"
      },
      "source": [
        "test2(\"sudh\",6)"
      ],
      "execution_count": null,
      "outputs": [
        {
          "output_type": "stream",
          "text": [
            "sudh 6\n"
          ],
          "name": "stdout"
        }
      ]
    },
    {
      "cell_type": "code",
      "metadata": {
        "id": "O6j0YxAbOVlu"
      },
      "source": [
        "def test3(a,c,b,n,h):\n",
        "    print(b,n,h , a)"
      ],
      "execution_count": null,
      "outputs": []
    },
    {
      "cell_type": "code",
      "metadata": {
        "id": "Nu8U6ZUIOVlv",
        "outputId": "4bba02bd-2aea-414c-d2d5-fe1948d76707"
      },
      "source": [
        "test3([3,4,5] , (4,5,6) , \"ffs\", 45,3.45)"
      ],
      "execution_count": null,
      "outputs": [
        {
          "output_type": "stream",
          "text": [
            "ffs 45 3.45 [3, 4, 5]\n"
          ],
          "name": "stdout"
        }
      ]
    },
    {
      "cell_type": "code",
      "metadata": {
        "id": "ArgQI60WOVlv"
      },
      "source": [
        "def test4(b , y = \"sudh\"):\n",
        "    \n",
        "    print(b,y)"
      ],
      "execution_count": null,
      "outputs": []
    },
    {
      "cell_type": "code",
      "metadata": {
        "id": "vwEi75GAOVlv",
        "outputId": "5dd4ec03-6d99-4af2-9389-427eddccb4e4"
      },
      "source": [
        "test4(56, \"kumar\")"
      ],
      "execution_count": null,
      "outputs": [
        {
          "output_type": "stream",
          "text": [
            "56 kumar\n"
          ],
          "name": "stdout"
        }
      ]
    },
    {
      "cell_type": "code",
      "metadata": {
        "id": "fldc-DI9OVlv"
      },
      "source": [
        "print()"
      ],
      "execution_count": null,
      "outputs": []
    },
    {
      "cell_type": "code",
      "metadata": {
        "id": "2vaERPC0OVlv"
      },
      "source": [
        "def test5(b,v):\n",
        "    \"\"\"this is my own funsdfs\n",
        "    df\n",
        "    fsd\n",
        "    f\n",
        "    sf\n",
        "    sf\n",
        "    sf\n",
        "    sf\n",
        "    dsf\n",
        "    sf\n",
        "    sdf\n",
        "    sd\n",
        "    fsd\n",
        "    fs\n",
        "    df\n",
        "    sd\n",
        "    sd\n",
        "    fs\n",
        "    \"\"\"\n",
        "    print(\"dfsfsfsd\" , b,v )"
      ],
      "execution_count": null,
      "outputs": []
    },
    {
      "cell_type": "code",
      "metadata": {
        "id": "pbNsosJOOVlw",
        "outputId": "97011a7b-122a-4db2-b6b2-e27e743faa9d"
      },
      "source": [
        "test5(\"fsdsdf\",56546)"
      ],
      "execution_count": null,
      "outputs": [
        {
          "output_type": "stream",
          "text": [
            "dfsfsfsd fsdsdf 56546\n"
          ],
          "name": "stdout"
        }
      ]
    },
    {
      "cell_type": "code",
      "metadata": {
        "id": "7YcMunhyOVlw"
      },
      "source": [
        "def test6(a,t):\n",
        "    print(\"fsfsdfsfsdfff sfds\")"
      ],
      "execution_count": null,
      "outputs": []
    },
    {
      "cell_type": "code",
      "metadata": {
        "id": "gznVml8BOVlw",
        "outputId": "109b9320-cb07-495d-d4ea-ecb17a1b4f3c"
      },
      "source": [
        "type(test6(\"fg\",567))"
      ],
      "execution_count": null,
      "outputs": [
        {
          "output_type": "stream",
          "text": [
            "fsfsdfsfsdfff sfds\n"
          ],
          "name": "stdout"
        },
        {
          "output_type": "execute_result",
          "data": {
            "text/plain": [
              "NoneType"
            ]
          },
          "metadata": {
            "tags": []
          },
          "execution_count": 41
        }
      ]
    },
    {
      "cell_type": "code",
      "metadata": {
        "id": "ORQQRlnsOVlw"
      },
      "source": [
        "def test7():\n",
        "    print(\"this is my fun\")"
      ],
      "execution_count": null,
      "outputs": []
    },
    {
      "cell_type": "code",
      "metadata": {
        "id": "qqUDPxrhOVlw",
        "outputId": "c420bcef-d76b-446d-9d01-034d32814acc"
      },
      "source": [
        "test7()"
      ],
      "execution_count": null,
      "outputs": [
        {
          "output_type": "stream",
          "text": [
            "this is my fun\n"
          ],
          "name": "stdout"
        }
      ]
    },
    {
      "cell_type": "code",
      "metadata": {
        "id": "6M0TO-gEOVlx",
        "outputId": "598bfb9d-6bdc-47f8-9b64-11b7efdfe388"
      },
      "source": [
        "str(test7()) + \"sudh\""
      ],
      "execution_count": null,
      "outputs": [
        {
          "output_type": "stream",
          "text": [
            "this is my fun\n"
          ],
          "name": "stdout"
        },
        {
          "output_type": "execute_result",
          "data": {
            "text/plain": [
              "'Nonesudh'"
            ]
          },
          "metadata": {
            "tags": []
          },
          "execution_count": 47
        }
      ]
    },
    {
      "cell_type": "code",
      "metadata": {
        "id": "zgaQHjoZOVlx",
        "outputId": "da9f5da2-27f6-4de3-ffd3-84e196db9e4c"
      },
      "source": [
        "type(test7())"
      ],
      "execution_count": null,
      "outputs": [
        {
          "output_type": "stream",
          "text": [
            "this is my fun\n"
          ],
          "name": "stdout"
        },
        {
          "output_type": "execute_result",
          "data": {
            "text/plain": [
              "NoneType"
            ]
          },
          "metadata": {
            "tags": []
          },
          "execution_count": 45
        }
      ]
    },
    {
      "cell_type": "code",
      "metadata": {
        "id": "rquMMMb-OVlx",
        "outputId": "1ae346d1-d452-4d70-f774-569b3488e01d"
      },
      "source": [
        "type(print(\"fsdf\"))"
      ],
      "execution_count": null,
      "outputs": [
        {
          "output_type": "stream",
          "text": [
            "fsdf\n"
          ],
          "name": "stdout"
        },
        {
          "output_type": "execute_result",
          "data": {
            "text/plain": [
              "NoneType"
            ]
          },
          "metadata": {
            "tags": []
          },
          "execution_count": 48
        }
      ]
    },
    {
      "cell_type": "code",
      "metadata": {
        "id": "oW1q6DGpOVlx"
      },
      "source": [
        "def test8(a,b):\n",
        "    return a"
      ],
      "execution_count": null,
      "outputs": []
    },
    {
      "cell_type": "code",
      "metadata": {
        "id": "ySzaAHsFOVlx",
        "outputId": "e7327ed2-9fd9-4046-8669-129767daa636"
      },
      "source": [
        "type(test8(45,\"fsdfs\"))"
      ],
      "execution_count": null,
      "outputs": [
        {
          "output_type": "execute_result",
          "data": {
            "text/plain": [
              "int"
            ]
          },
          "metadata": {
            "tags": []
          },
          "execution_count": 51
        }
      ]
    },
    {
      "cell_type": "code",
      "metadata": {
        "id": "kHIDYpkVOVlx",
        "outputId": "f30e90c9-d98a-4de3-ae4d-1c44727e6f60"
      },
      "source": [
        "test8(5646,\"sdfs\" ) + 56"
      ],
      "execution_count": null,
      "outputs": [
        {
          "output_type": "execute_result",
          "data": {
            "text/plain": [
              "5702"
            ]
          },
          "metadata": {
            "tags": []
          },
          "execution_count": 52
        }
      ]
    },
    {
      "cell_type": "code",
      "metadata": {
        "id": "iJh9E5msOVly"
      },
      "source": [
        "def test9(a,b):\n",
        "    return a, b*b "
      ],
      "execution_count": null,
      "outputs": []
    },
    {
      "cell_type": "code",
      "metadata": {
        "id": "viIBxqhJOVly",
        "outputId": "16822cbc-9c26-4646-b557-228edf438b0f"
      },
      "source": [
        "type(test9(3,4))"
      ],
      "execution_count": null,
      "outputs": [
        {
          "output_type": "execute_result",
          "data": {
            "text/plain": [
              "tuple"
            ]
          },
          "metadata": {
            "tags": []
          },
          "execution_count": 58
        }
      ]
    },
    {
      "cell_type": "code",
      "metadata": {
        "id": "KMLEb9fIOVly"
      },
      "source": [
        "def test10(a,b):\n",
        "    return a, b , a*b, a/b"
      ],
      "execution_count": null,
      "outputs": []
    },
    {
      "cell_type": "code",
      "metadata": {
        "id": "gvLZgZzUOVly",
        "outputId": "d27adfa9-fa86-4126-a3bf-02224161eb15"
      },
      "source": [
        "for i in test10(3,5) :\n",
        "    print(i)"
      ],
      "execution_count": null,
      "outputs": [
        {
          "output_type": "stream",
          "text": [
            "3\n",
            "5\n",
            "15\n",
            "0.6\n"
          ],
          "name": "stdout"
        }
      ]
    },
    {
      "cell_type": "code",
      "metadata": {
        "id": "VIikRT_sOVly",
        "outputId": "70741228-1bb8-4734-f274-806025ef33a6"
      },
      "source": [
        "test10(3,5)[0:3]"
      ],
      "execution_count": null,
      "outputs": [
        {
          "output_type": "execute_result",
          "data": {
            "text/plain": [
              "(3, 5, 15)"
            ]
          },
          "metadata": {
            "tags": []
          },
          "execution_count": 64
        }
      ]
    },
    {
      "cell_type": "code",
      "metadata": {
        "id": "OwnPrVgSOVly"
      },
      "source": [
        "def test11(a,b) : \n",
        "    return a,b, a*b"
      ],
      "execution_count": null,
      "outputs": []
    },
    {
      "cell_type": "code",
      "metadata": {
        "id": "bB0JF1-7OVly",
        "outputId": "de446ef5-1a93-4168-e379-c5cb0592809d"
      },
      "source": [
        "test11(\"sudh\" , 3)"
      ],
      "execution_count": null,
      "outputs": [
        {
          "output_type": "execute_result",
          "data": {
            "text/plain": [
              "('sudh', 3, 'sudhsudhsudh')"
            ]
          },
          "metadata": {
            "tags": []
          },
          "execution_count": 66
        }
      ]
    },
    {
      "cell_type": "code",
      "metadata": {
        "id": "ErgOjoPTOVlz"
      },
      "source": [
        "a = 34\n",
        "b = 56\n",
        "c = 23"
      ],
      "execution_count": null,
      "outputs": []
    },
    {
      "cell_type": "code",
      "metadata": {
        "id": "BsPzvPpUOVlz"
      },
      "source": [
        "a,b,c = 344 , 56 , 23"
      ],
      "execution_count": null,
      "outputs": []
    },
    {
      "cell_type": "code",
      "metadata": {
        "id": "1hi641vaOVlz"
      },
      "source": [
        "_,_,_ = 23,45,[56,67,88,7]"
      ],
      "execution_count": null,
      "outputs": []
    },
    {
      "cell_type": "code",
      "metadata": {
        "id": "Ep0uQaszOVlz",
        "outputId": "1edb6604-6b67-4966-9c61-47704eb4be29"
      },
      "source": [
        "_"
      ],
      "execution_count": null,
      "outputs": [
        {
          "output_type": "execute_result",
          "data": {
            "text/plain": [
              "[56, 67, 88, 7]"
            ]
          },
          "metadata": {
            "tags": []
          },
          "execution_count": 78
        }
      ]
    },
    {
      "cell_type": "code",
      "metadata": {
        "id": "CyKvEJWhOVlz"
      },
      "source": [
        "def test12(a,b,c):\n",
        "    return a,b,c"
      ],
      "execution_count": null,
      "outputs": []
    },
    {
      "cell_type": "code",
      "metadata": {
        "id": "Mal0-uLiOVlz"
      },
      "source": [
        "m,p,q = test12(5,3,1)"
      ],
      "execution_count": null,
      "outputs": []
    },
    {
      "cell_type": "code",
      "metadata": {
        "id": "5mdhG0H0OVlz",
        "outputId": "d9001ab9-4df8-40bf-c7d2-9980e0f450c2"
      },
      "source": [
        "test12(5,3,1)"
      ],
      "execution_count": null,
      "outputs": [
        {
          "output_type": "execute_result",
          "data": {
            "text/plain": [
              "(5, 3, 1)"
            ]
          },
          "metadata": {
            "tags": []
          },
          "execution_count": 87
        }
      ]
    },
    {
      "cell_type": "code",
      "metadata": {
        "id": "FOte-UlhOVlz",
        "outputId": "7fcdfe58-86c3-47b5-924c-5a7fc1391e0c"
      },
      "source": [
        "m"
      ],
      "execution_count": null,
      "outputs": [
        {
          "output_type": "execute_result",
          "data": {
            "text/plain": [
              "5"
            ]
          },
          "metadata": {
            "tags": []
          },
          "execution_count": 88
        }
      ]
    },
    {
      "cell_type": "code",
      "metadata": {
        "id": "80tNZ-CrOVl0",
        "outputId": "e4703761-a3d3-4894-b259-b084fbbae9ea"
      },
      "source": [
        "q"
      ],
      "execution_count": null,
      "outputs": [
        {
          "output_type": "execute_result",
          "data": {
            "text/plain": [
              "1"
            ]
          },
          "metadata": {
            "tags": []
          },
          "execution_count": 84
        }
      ]
    },
    {
      "cell_type": "code",
      "metadata": {
        "id": "s2yOfmFaOVl0",
        "outputId": "0b5aaa35-24b6-42a2-db1e-060a1a368578"
      },
      "source": [
        "p"
      ],
      "execution_count": null,
      "outputs": [
        {
          "output_type": "execute_result",
          "data": {
            "text/plain": [
              "3"
            ]
          },
          "metadata": {
            "tags": []
          },
          "execution_count": 85
        }
      ]
    },
    {
      "cell_type": "code",
      "metadata": {
        "id": "8j0cMQ5VOVl0"
      },
      "source": [
        "p,_,_ = test12(5,3,1)"
      ],
      "execution_count": null,
      "outputs": []
    },
    {
      "cell_type": "code",
      "metadata": {
        "id": "Isl2twgzOVl0",
        "outputId": "b676d4ff-ac7b-4a16-c30f-2a0fb557d960"
      },
      "source": [
        "p"
      ],
      "execution_count": null,
      "outputs": [
        {
          "output_type": "execute_result",
          "data": {
            "text/plain": [
              "5"
            ]
          },
          "metadata": {
            "tags": []
          },
          "execution_count": 95
        }
      ]
    },
    {
      "cell_type": "code",
      "metadata": {
        "id": "xerZSobWOVl0"
      },
      "source": [
        "def test13(b,n ):\n",
        "    \"\"\"this is a fun create by me \n",
        "    this fun takes 2 argument \n",
        "    this function is going to multiply you these two argument \n",
        "    and it will give you someting as a return \n",
        "    \"\"\"\n",
        "    c = b * n\n",
        "    return c "
      ],
      "execution_count": null,
      "outputs": []
    },
    {
      "cell_type": "code",
      "metadata": {
        "id": "BgrgOvRTOVl0",
        "outputId": "32578358-ae39-4c41-a4b2-423f64d6818a"
      },
      "source": [
        "test13(\"sudh\" , 3)"
      ],
      "execution_count": null,
      "outputs": [
        {
          "output_type": "execute_result",
          "data": {
            "text/plain": [
              "'sudhsudhsudh'"
            ]
          },
          "metadata": {
            "tags": []
          },
          "execution_count": 99
        }
      ]
    },
    {
      "cell_type": "code",
      "metadata": {
        "id": "QT37p6FzOVl0"
      },
      "source": [
        "def test(b):\n",
        "    c = []\n",
        "    for i in b :\n",
        "        c.append(i)\n",
        "    return c , c, c "
      ],
      "execution_count": null,
      "outputs": []
    },
    {
      "cell_type": "code",
      "metadata": {
        "id": "kfj1pP6qOVl0",
        "outputId": "1e6225e0-cce7-4a87-f6f7-c24709d748d9"
      },
      "source": [
        "test([4,5,6])"
      ],
      "execution_count": null,
      "outputs": [
        {
          "output_type": "execute_result",
          "data": {
            "text/plain": [
              "([4, 5, 6], [4, 5, 6], [4, 5, 6])"
            ]
          },
          "metadata": {
            "tags": []
          },
          "execution_count": 107
        }
      ]
    },
    {
      "cell_type": "code",
      "metadata": {
        "id": "h204GqEHOVl1",
        "outputId": "bb75e61c-541d-4646-d10a-624d441d0a09"
      },
      "source": [
        "test((\"fsdf\",\"fsdfs\" , 45,45))"
      ],
      "execution_count": null,
      "outputs": [
        {
          "output_type": "execute_result",
          "data": {
            "text/plain": [
              "(['fsdf', 'fsdfs', 45, 45],\n",
              " ['fsdf', 'fsdfs', 45, 45],\n",
              " ['fsdf', 'fsdfs', 45, 45])"
            ]
          },
          "metadata": {
            "tags": []
          },
          "execution_count": 108
        }
      ]
    },
    {
      "cell_type": "code",
      "metadata": {
        "id": "hCHQ0TULOVl1",
        "outputId": "7b8bce59-d04b-4042-fa60-9f025e441962"
      },
      "source": [
        "a = input()\n",
        "test(a)"
      ],
      "execution_count": null,
      "outputs": [
        {
          "output_type": "stream",
          "text": [
            "fdfsfsafsd\n"
          ],
          "name": "stdout"
        },
        {
          "output_type": "execute_result",
          "data": {
            "text/plain": [
              "(['f', 'd', 'f', 's', 'f', 's', 'a', 'f', 's', 'd'],\n",
              " ['f', 'd', 'f', 's', 'f', 's', 'a', 'f', 's', 'd'],\n",
              " ['f', 'd', 'f', 's', 'f', 's', 'a', 'f', 's', 'd'])"
            ]
          },
          "metadata": {
            "tags": []
          },
          "execution_count": 109
        }
      ]
    },
    {
      "cell_type": "code",
      "metadata": {
        "id": "L64ukusAOVl1"
      },
      "source": [
        "def dict_to_list(dictIn):\n",
        "    \"\"\" This function coverts dict to list for values \n",
        "    where it's string \"\"\"\n",
        "    strList = []\n",
        "    for i in dictIn.values():\n",
        "        if type(i) == str:\n",
        "            strList.append(i)\n",
        "\n",
        "    return strList\n"
      ],
      "execution_count": null,
      "outputs": []
    },
    {
      "cell_type": "code",
      "metadata": {
        "id": "Y70A037bOVl1",
        "outputId": "dd48acc8-3f0d-49e9-81c2-abbce62607cf"
      },
      "source": [
        "dict_to_list({\"a \":\"fdsf\" , \"b\" :{\"n\":\"fsdf\"},\"c\":[5,6,7,8],\"d\":456})"
      ],
      "execution_count": null,
      "outputs": [
        {
          "output_type": "execute_result",
          "data": {
            "text/plain": [
              "['fdsf']"
            ]
          },
          "metadata": {
            "tags": []
          },
          "execution_count": 113
        }
      ]
    },
    {
      "cell_type": "code",
      "metadata": {
        "id": "xjJLBVbfOVl1"
      },
      "source": [
        "def test14(d):\n",
        "    l = []\n",
        "    for i in d.values():\n",
        "        if type(i) == str:\n",
        "            l.append(i)\n",
        "            \n",
        "    return l "
      ],
      "execution_count": null,
      "outputs": []
    },
    {
      "cell_type": "code",
      "metadata": {
        "id": "bm10GNCZOVl1",
        "outputId": "14678f2f-dab2-43f1-cbf5-d4547694fa80"
      },
      "source": [
        "test14({\"b\":\"sudh\", \"c\" : \"sdfsf\"})"
      ],
      "execution_count": null,
      "outputs": [
        {
          "output_type": "execute_result",
          "data": {
            "text/plain": [
              "['sudh', 'sdfsf']"
            ]
          },
          "metadata": {
            "tags": []
          },
          "execution_count": 117
        }
      ]
    },
    {
      "cell_type": "code",
      "metadata": {
        "id": "J9HNy03cOVl1",
        "outputId": "3484ae4a-732e-41a7-aa7d-873820e7b8a7"
      },
      "source": [
        "a = 54554\n",
        "if type(a) == dict :\n",
        "    test14(a)\n",
        "else :\n",
        "    print(\"input is not a dict \")"
      ],
      "execution_count": null,
      "outputs": [
        {
          "output_type": "stream",
          "text": [
            "input is not a dict \n"
          ],
          "name": "stdout"
        }
      ]
    },
    {
      "cell_type": "code",
      "metadata": {
        "id": "BrI3sI-ZOVl2",
        "outputId": "87999584-8722-4f65-cc3c-a5ade0a6b821"
      },
      "source": [
        "def func(name, mail, phn):\n",
        "    \"\"\"\n",
        "    This fucntion will take user details and return them \n",
        "    in form of a dictionary\n",
        "    \"\"\"\n",
        "    l = [name, mail, phn]\n",
        "    d = {}\n",
        "    k = 0\n",
        "    for i in l:\n",
        "        d[k] =  l[k]\n",
        "        k = k + 1\n",
        "    return d\n",
        "\n",
        "\n",
        "name = input(\"Enter name = \")\n",
        "mail_id = input(\"Enter a mail id = \")\n",
        "phone = int(input(\"Enter a  phone = \"))\n",
        "func(name,mail_id,phone)\n"
      ],
      "execution_count": null,
      "outputs": [
        {
          "output_type": "stream",
          "text": [
            "Enter name = sdfaf\n",
            "Enter a mail id = sfsfaf\n",
            "Enter a  phone = 5454\n"
          ],
          "name": "stdout"
        },
        {
          "output_type": "execute_result",
          "data": {
            "text/plain": [
              "{0: 'sdfaf', 1: 'sfsfaf', 2: 5454}"
            ]
          },
          "metadata": {
            "tags": []
          },
          "execution_count": 120
        }
      ]
    },
    {
      "cell_type": "code",
      "metadata": {
        "id": "u0sAOeKHOVl2"
      },
      "source": [
        "def test15():\n",
        "    name = input()\n",
        "    mail_id = input()\n",
        "    phone_no = int(input()) \n",
        "    return {\"name\":name, \"mail_id\":mail_id , \"phone_no\":phone_no}\n",
        "    "
      ],
      "execution_count": null,
      "outputs": []
    },
    {
      "cell_type": "code",
      "metadata": {
        "id": "7lOWNEKoOVl2",
        "outputId": "1da47115-e677-4b2f-a67f-5adf6e3ab73d"
      },
      "source": [
        "test15()"
      ],
      "execution_count": null,
      "outputs": [
        {
          "output_type": "stream",
          "text": [
            "sudh\n",
            "fsdfffsa\n",
            "56567567\n"
          ],
          "name": "stdout"
        },
        {
          "output_type": "execute_result",
          "data": {
            "text/plain": [
              "{'name': 'sudh', 'mail_id': 'fsdfffsa', 'phone_no': 56567567}"
            ]
          },
          "metadata": {
            "tags": []
          },
          "execution_count": 122
        }
      ]
    },
    {
      "cell_type": "code",
      "metadata": {
        "id": "N7ISLr5oOVl2"
      },
      "source": [
        "def test16(name , mail_id, phone_no):\n",
        "    t  = ( name, mail_id, phone_no)\n",
        "    d = {}\n",
        "    for i in t : \n",
        "        d[i] = name\n",
        "    return d \n",
        "        "
      ],
      "execution_count": null,
      "outputs": []
    },
    {
      "cell_type": "code",
      "metadata": {
        "id": "sCz9d9t-OVl2",
        "outputId": "73fb1743-dc8f-49c2-c548-e53fe95e3885"
      },
      "source": [
        "test16(\"sudh\" , \"sdfsf\" , 435654)"
      ],
      "execution_count": null,
      "outputs": [
        {
          "output_type": "execute_result",
          "data": {
            "text/plain": [
              "{'sudh': 'sudh', 'sdfsf': 'sudh', 435654: 'sudh'}"
            ]
          },
          "metadata": {
            "tags": []
          },
          "execution_count": 124
        }
      ]
    },
    {
      "cell_type": "code",
      "metadata": {
        "id": "agWT3hUtOVl2",
        "outputId": "b6776b66-1311-401d-ed86-77d0a7477842"
      },
      "source": [
        "name = input()"
      ],
      "execution_count": null,
      "outputs": [
        {
          "output_type": "stream",
          "text": [
            "fsdfs\n"
          ],
          "name": "stdout"
        }
      ]
    },
    {
      "cell_type": "code",
      "metadata": {
        "id": "ln8QJT3kOVl3",
        "outputId": "2bbdf62e-ccc0-4af3-e436-5380e5b0e642"
      },
      "source": [
        "name"
      ],
      "execution_count": null,
      "outputs": [
        {
          "output_type": "execute_result",
          "data": {
            "text/plain": [
              "'fsdfs'"
            ]
          },
          "metadata": {
            "tags": []
          },
          "execution_count": 127
        }
      ]
    },
    {
      "cell_type": "code",
      "metadata": {
        "id": "0Ae3ARLdOVl3",
        "outputId": "6a7ca12f-3e28-4d91-9adc-d45c4dea1d21"
      },
      "source": [
        "def person_info(name,phone,mail):\n",
        "    lst1= [name,phone,mail]\n",
        "    lst2 = [\"name\",\"phone\",\"mail\"]\n",
        "    d={}\n",
        "    for i,j in zip(lst1,lst2):\n",
        "        d[j] = i\n",
        "    return d\n",
        "name = input(\"enter your name...\")\n",
        "phone = int(input(\"enter your number...\"))\n",
        "mail = input(\"enter your mail....\")\n",
        "person_info(name,phone,mail)\n"
      ],
      "execution_count": null,
      "outputs": [
        {
          "output_type": "stream",
          "text": [
            "enter your name...fsdfs\n",
            "enter your number...345\n",
            "enter your mail....fsdf\n"
          ],
          "name": "stdout"
        },
        {
          "output_type": "execute_result",
          "data": {
            "text/plain": [
              "{'name': 'fsdfs', 'phone': 345, 'mail': 'fsdf'}"
            ]
          },
          "metadata": {
            "tags": []
          },
          "execution_count": 130
        }
      ]
    },
    {
      "cell_type": "code",
      "metadata": {
        "id": "HnuydOieOVl3"
      },
      "source": [
        "a= [56,56,56,56,5,6]\n",
        "b = 54345"
      ],
      "execution_count": null,
      "outputs": []
    },
    {
      "cell_type": "code",
      "metadata": {
        "id": "CEb5eQqPOVl3",
        "outputId": "01a5c800-bb35-44f7-db6b-cd2f50cd4f28"
      },
      "source": [
        "list(zip(a,b))"
      ],
      "execution_count": null,
      "outputs": [
        {
          "output_type": "error",
          "ename": "TypeError",
          "evalue": "'int' object is not iterable",
          "traceback": [
            "\u001b[1;31m---------------------------------------------------------------------------\u001b[0m",
            "\u001b[1;31mTypeError\u001b[0m                                 Traceback (most recent call last)",
            "\u001b[1;32m<ipython-input-139-3bb8387cd07c>\u001b[0m in \u001b[0;36m<module>\u001b[1;34m\u001b[0m\n\u001b[1;32m----> 1\u001b[1;33m \u001b[0mlist\u001b[0m\u001b[1;33m(\u001b[0m\u001b[0mzip\u001b[0m\u001b[1;33m(\u001b[0m\u001b[0ma\u001b[0m\u001b[1;33m,\u001b[0m\u001b[0mb\u001b[0m\u001b[1;33m)\u001b[0m\u001b[1;33m)\u001b[0m\u001b[1;33m\u001b[0m\u001b[1;33m\u001b[0m\u001b[0m\n\u001b[0m",
            "\u001b[1;31mTypeError\u001b[0m: 'int' object is not iterable"
          ]
        }
      ]
    },
    {
      "cell_type": "code",
      "metadata": {
        "id": "0dm91iXQOVl3"
      },
      "source": [
        "def test17(a,b,c,d):\n",
        "    return a ,b,c,d\n"
      ],
      "execution_count": null,
      "outputs": []
    },
    {
      "cell_type": "code",
      "metadata": {
        "id": "JWMs7NMuOVl3"
      },
      "source": [
        ""
      ],
      "execution_count": null,
      "outputs": []
    }
  ]
}