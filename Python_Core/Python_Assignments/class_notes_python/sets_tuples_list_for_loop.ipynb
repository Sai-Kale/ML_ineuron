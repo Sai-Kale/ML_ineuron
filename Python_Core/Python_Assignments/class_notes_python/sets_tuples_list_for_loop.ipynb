{
  "nbformat": 4,
  "nbformat_minor": 0,
  "metadata": {
    "colab": {
      "name": "Untitled1.ipynb",
      "provenance": [],
      "authorship_tag": "ABX9TyMB6DDOLLRKdABsmWZTAqcp",
      "include_colab_link": true
    },
    "kernelspec": {
      "name": "python3",
      "display_name": "Python 3"
    },
    "language_info": {
      "name": "python"
    }
  },
  "cells": [
    {
      "cell_type": "markdown",
      "metadata": {
        "id": "view-in-github",
        "colab_type": "text"
      },
      "source": [
        "<a href=\"https://colab.research.google.com/github/Sai-Kale/ML_ineuron/blob/master/Python_Core/Python_Assignments/class_notes_python/sets_tuples_list_for_loop.ipynb\" target=\"_parent\"><img src=\"https://colab.research.google.com/assets/colab-badge.svg\" alt=\"Open In Colab\"/></a>"
      ]
    },
    {
      "cell_type": "code",
      "metadata": {
        "id": "zb1AZT9cpENZ",
        "outputId": "ac78ede7-b89a-4ac1-a14d-a1ffb083e93f",
        "colab": {
          "base_uri": "https://localhost:8080/"
        }
      },
      "source": [
        "list(range(3))\n"
      ],
      "execution_count": 7,
      "outputs": [
        {
          "output_type": "execute_result",
          "data": {
            "text/plain": [
              "[0, 1, 2]"
            ]
          },
          "metadata": {
            "tags": []
          },
          "execution_count": 7
        }
      ]
    },
    {
      "cell_type": "code",
      "metadata": {
        "id": "FeuuY3oJFL18"
      },
      "source": [
        "l = list(range(20))"
      ],
      "execution_count": 10,
      "outputs": []
    },
    {
      "cell_type": "code",
      "metadata": {
        "id": "7JQoILmhGigA",
        "outputId": "3b60a1bc-2924-4967-f9c2-b9b76cb89c7f",
        "colab": {
          "base_uri": "https://localhost:8080/"
        }
      },
      "source": [
        "list(range(2,4))"
      ],
      "execution_count": 12,
      "outputs": [
        {
          "output_type": "execute_result",
          "data": {
            "text/plain": [
              "[2, 3]"
            ]
          },
          "metadata": {
            "tags": []
          },
          "execution_count": 12
        }
      ]
    },
    {
      "cell_type": "code",
      "metadata": {
        "id": "rVHH_gLfGuUg",
        "outputId": "86dc0bb7-5079-4b26-d527-6e8c0c03ebf5",
        "colab": {
          "base_uri": "https://localhost:8080/"
        }
      },
      "source": [
        "list(range(2,19,2))"
      ],
      "execution_count": 14,
      "outputs": [
        {
          "output_type": "execute_result",
          "data": {
            "text/plain": [
              "[2, 4, 6, 8, 10, 12, 14, 16, 18]"
            ]
          },
          "metadata": {
            "tags": []
          },
          "execution_count": 14
        }
      ]
    },
    {
      "cell_type": "code",
      "metadata": {
        "id": "K6NUBLwyGzca",
        "outputId": "19bd114d-3c70-4093-c0d5-59b0c447b4b6",
        "colab": {
          "base_uri": "https://localhost:8080/"
        }
      },
      "source": [
        "list(range(20,2,-2))"
      ],
      "execution_count": 16,
      "outputs": [
        {
          "output_type": "execute_result",
          "data": {
            "text/plain": [
              "[20, 18, 16, 14, 12, 10, 8, 6, 4]"
            ]
          },
          "metadata": {
            "tags": []
          },
          "execution_count": 16
        }
      ]
    },
    {
      "cell_type": "code",
      "metadata": {
        "id": "RO0u1uywOndW"
      },
      "source": [
        "#Tuple is immutable and List is mutable\n",
        "#i.e. we cant edit a tuple"
      ],
      "execution_count": 21,
      "outputs": []
    },
    {
      "cell_type": "code",
      "metadata": {
        "id": "hH1GsOBEQCTO",
        "outputId": "e6f0d713-195f-4233-81e3-318d50eaeb95",
        "colab": {
          "base_uri": "https://localhost:8080/"
        }
      },
      "source": [
        "t = (1,2,3)\n",
        "type(t)"
      ],
      "execution_count": 19,
      "outputs": [
        {
          "output_type": "execute_result",
          "data": {
            "text/plain": [
              "tuple"
            ]
          },
          "metadata": {
            "tags": []
          },
          "execution_count": 19
        }
      ]
    },
    {
      "cell_type": "code",
      "metadata": {
        "id": "uB0VH6vcQIYc",
        "outputId": "0844852b-09a1-42b5-a2ee-9400a1ae6f2b",
        "colab": {
          "base_uri": "https://localhost:8080/"
        }
      },
      "source": [
        "d = {1,2,3}\n",
        "type(d)"
      ],
      "execution_count": 20,
      "outputs": [
        {
          "output_type": "execute_result",
          "data": {
            "text/plain": [
              "set"
            ]
          },
          "metadata": {
            "tags": []
          },
          "execution_count": 20
        }
      ]
    },
    {
      "cell_type": "code",
      "metadata": {
        "id": "wCMR_pn9QMTG",
        "outputId": "8e7f0f33-f9b6-4c49-8196-6e7a2f4a25e0",
        "colab": {
          "base_uri": "https://localhost:8080/"
        }
      },
      "source": [
        "s = {1,1,1,2,2,2,2,\"sai\",\"sai\",\"sai\"}  #set gives out the unique values in a given set, its NOT case sensitive\n",
        "s"
      ],
      "execution_count": 23,
      "outputs": [
        {
          "output_type": "execute_result",
          "data": {
            "text/plain": [
              "{1, 2, 'sai'}"
            ]
          },
          "metadata": {
            "tags": []
          },
          "execution_count": 23
        }
      ]
    },
    {
      "cell_type": "code",
      "metadata": {
        "id": "mHwN2NS0QfjX",
        "outputId": "bd640258-8b95-4537-d4e2-be11838fce60",
        "colab": {
          "base_uri": "https://localhost:8080/"
        }
      },
      "source": [
        "s = {32,13,142,6353,11,25,321} #it looks like sorting from ascending order but its just an unordered collection of unique objects\n",
        "s"
      ],
      "execution_count": 25,
      "outputs": [
        {
          "output_type": "execute_result",
          "data": {
            "text/plain": [
              "{11, 13, 25, 32, 142, 321, 6353}"
            ]
          },
          "metadata": {
            "tags": []
          },
          "execution_count": 25
        }
      ]
    },
    {
      "cell_type": "code",
      "metadata": {
        "id": "Mlg4de13WiJT",
        "outputId": "15d9918a-5ecc-4991-ff71-6d7456746d1c",
        "colab": {
          "base_uri": "https://localhost:8080/"
        }
      },
      "source": [
        "s = {\"sai\",\"s\",\"kumar\",34,26,37}\n",
        "s"
      ],
      "execution_count": 27,
      "outputs": [
        {
          "output_type": "execute_result",
          "data": {
            "text/plain": [
              "{26, 34, 37, 'kumar', 's', 'sai'}"
            ]
          },
          "metadata": {
            "tags": []
          },
          "execution_count": 27
        }
      ]
    },
    {
      "cell_type": "code",
      "metadata": {
        "id": "Mnmgo_JxRrLZ",
        "outputId": "85cb14c6-3a59-4551-b840-bbba3e769cf7",
        "colab": {
          "base_uri": "https://localhost:8080/",
          "height": 162
        }
      },
      "source": [
        "s[0] #we can do this for list and tuple but not set"
      ],
      "execution_count": 29,
      "outputs": [
        {
          "output_type": "error",
          "ename": "TypeError",
          "evalue": "ignored",
          "traceback": [
            "\u001b[0;31m---------------------------------------------------------------------------\u001b[0m",
            "\u001b[0;31mTypeError\u001b[0m                                 Traceback (most recent call last)",
            "\u001b[0;32m<ipython-input-29-c9c96910e542>\u001b[0m in \u001b[0;36m<module>\u001b[0;34m()\u001b[0m\n\u001b[0;32m----> 1\u001b[0;31m \u001b[0ms\u001b[0m\u001b[0;34m[\u001b[0m\u001b[0;36m0\u001b[0m\u001b[0;34m]\u001b[0m\u001b[0;34m\u001b[0m\u001b[0;34m\u001b[0m\u001b[0m\n\u001b[0m",
            "\u001b[0;31mTypeError\u001b[0m: 'set' object is not subscriptable"
          ]
        }
      ]
    },
    {
      "cell_type": "code",
      "metadata": {
        "id": "7ZS1qsy0W5rT",
        "outputId": "51386aa8-a112-4cfb-81a3-877e91af6fef",
        "colab": {
          "base_uri": "https://localhost:8080/"
        }
      },
      "source": [
        "d = {} #inside a dict we can store any kind of data in key value fashion\n",
        "type(d)"
      ],
      "execution_count": 30,
      "outputs": [
        {
          "output_type": "execute_result",
          "data": {
            "text/plain": [
              "dict"
            ]
          },
          "metadata": {
            "tags": []
          },
          "execution_count": 30
        }
      ]
    },
    {
      "cell_type": "code",
      "metadata": {
        "id": "St7ZhEU1Wwtx",
        "outputId": "6ecd28ae-1d81-4830-831c-b678053a213f",
        "colab": {
          "base_uri": "https://localhost:8080/"
        }
      },
      "source": [
        "d ={\"a\":\"sai\",\"name\":\"kale\",\"number\":35454}\n",
        "d"
      ],
      "execution_count": 32,
      "outputs": [
        {
          "output_type": "execute_result",
          "data": {
            "text/plain": [
              "{'a': 'sai', 'name': 'kale', 'number': 35454}"
            ]
          },
          "metadata": {
            "tags": []
          },
          "execution_count": 32
        }
      ]
    },
    {
      "cell_type": "code",
      "metadata": {
        "id": "apzpFQpBYHA2",
        "outputId": "f811e1db-ffff-470e-bd52-2b5c08724f7c",
        "colab": {
          "base_uri": "https://localhost:8080/"
        }
      },
      "source": [
        "d = {\"name\" : \"sai\", \"name\":\"kumar\"} #it overides the data with the second data if same key is used\n",
        "d\n",
        "sa={\"name\" : \"kumar\", \"name\":\"kumar\"} #value duplication is allowed\n",
        "sa"
      ],
      "execution_count": 36,
      "outputs": [
        {
          "output_type": "execute_result",
          "data": {
            "text/plain": [
              "{'name': 'kumar'}"
            ]
          },
          "metadata": {
            "tags": []
          },
          "execution_count": 36
        }
      ]
    },
    {
      "cell_type": "code",
      "metadata": {
        "id": "KRCEqvN6ZLWZ",
        "outputId": "e1a6fd97-1fd7-4ae6-d395-1cbdec8869ae",
        "colab": {
          "base_uri": "https://localhost:8080/"
        }
      },
      "source": [
        "dict = {2:\"sai\",\"a\":\"kumar\",\"list\":[0,1,2,3,(4,3,64),34],\"t\":(1,2,4,5),\"s\":{1,2,2,4}}\n",
        "dict"
      ],
      "execution_count": 37,
      "outputs": [
        {
          "output_type": "execute_result",
          "data": {
            "text/plain": [
              "{2: 'sai',\n",
              " 'a': 'kumar',\n",
              " 'list': [0, 1, 2, 3, (4, 3, 64), 34],\n",
              " 's': {1, 2, 4},\n",
              " 't': (1, 2, 4, 5)}"
            ]
          },
          "metadata": {
            "tags": []
          },
          "execution_count": 37
        }
      ]
    },
    {
      "cell_type": "markdown",
      "metadata": {
        "id": "s5UWYkihbBJW"
      },
      "source": [
        "** *Dictionary can use any immutable structure as key, but mutable cant be used. \n",
        "tuples and string are immutable entity"
      ]
    },
    {
      "cell_type": "code",
      "metadata": {
        "id": "UXhFvVdbaQty",
        "outputId": "344f44db-f39b-45fa-f13a-984f022296f2",
        "colab": {
          "base_uri": "https://localhost:8080/"
        }
      },
      "source": [
        " dict['list'][4][0] #I am able to access a tuple inside a dict"
      ],
      "execution_count": 40,
      "outputs": [
        {
          "output_type": "execute_result",
          "data": {
            "text/plain": [
              "4"
            ]
          },
          "metadata": {
            "tags": []
          },
          "execution_count": 40
        }
      ]
    },
    {
      "cell_type": "code",
      "metadata": {
        "id": "CO_2N3Kzd0lP",
        "outputId": "b40f5844-ae15-4594-f33c-bd4548d70ad3",
        "colab": {
          "base_uri": "https://localhost:8080/",
          "height": 162
        }
      },
      "source": [
        "dict['s'] [1]  #reason being set is UNORDERED CoLLECTION OF OBJECTS, objects order keep changing evertime we called"
      ],
      "execution_count": 43,
      "outputs": [
        {
          "output_type": "error",
          "ename": "TypeError",
          "evalue": "ignored",
          "traceback": [
            "\u001b[0;31m---------------------------------------------------------------------------\u001b[0m",
            "\u001b[0;31mTypeError\u001b[0m                                 Traceback (most recent call last)",
            "\u001b[0;32m<ipython-input-43-ee991441f54f>\u001b[0m in \u001b[0;36m<module>\u001b[0;34m()\u001b[0m\n\u001b[0;32m----> 1\u001b[0;31m \u001b[0mdict\u001b[0m\u001b[0;34m[\u001b[0m\u001b[0;34m's'\u001b[0m\u001b[0;34m]\u001b[0m \u001b[0;34m[\u001b[0m\u001b[0;36m1\u001b[0m\u001b[0;34m]\u001b[0m\u001b[0;34m\u001b[0m\u001b[0;34m\u001b[0m\u001b[0m\n\u001b[0m",
            "\u001b[0;31mTypeError\u001b[0m: 'set' object is not subscriptable"
          ]
        }
      ]
    },
    {
      "cell_type": "code",
      "metadata": {
        "id": "8geLoSn9d2tZ",
        "outputId": "76ae5cad-f449-4be5-e446-ce7e7ced30bd",
        "colab": {
          "base_uri": "https://localhost:8080/"
        }
      },
      "source": [
        "l = [1,234,35,{\"name\" : \"sai\"},2342,[5,234,2423,242],2,{35,249,2323,24,123},25,(23,23,232,234,2)]\n",
        "l"
      ],
      "execution_count": 63,
      "outputs": [
        {
          "output_type": "execute_result",
          "data": {
            "text/plain": [
              "[1,\n",
              " 234,\n",
              " 35,\n",
              " {'name': 'sai'},\n",
              " 2342,\n",
              " [5, 234, 2423, 242],\n",
              " 2,\n",
              " {24, 35, 123, 249, 2323},\n",
              " 25,\n",
              " (23, 23, 232, 234, 2)]"
            ]
          },
          "metadata": {
            "tags": []
          },
          "execution_count": 63
        }
      ]
    },
    {
      "cell_type": "code",
      "metadata": {
        "id": "AskZM6jyhDzQ"
      },
      "source": [
        "for i in l:\n",
        "  if type(i) == dict:\n",
        "    print(i)"
      ],
      "execution_count": 69,
      "outputs": []
    },
    {
      "cell_type": "code",
      "metadata": {
        "id": "9fYgkG4EjVYw",
        "outputId": "76741895-bc4c-47f7-c0bc-2b48bd3bbdd3",
        "colab": {
          "base_uri": "https://localhost:8080/"
        }
      },
      "source": [
        "for i in l:\n",
        "  if type(i) == list:\n",
        "    for j in i:\n",
        "      if j == 34:\n",
        "        print(j)\n",
        "      else:\n",
        "        print(\"the numbers in the list are \"+str(j))"
      ],
      "execution_count": 74,
      "outputs": [
        {
          "output_type": "stream",
          "text": [
            "the numbers in the list are 5\n",
            "the numbers in the list are 234\n",
            "the numbers in the list are 2423\n",
            "the numbers in the list are 242\n"
          ],
          "name": "stdout"
        }
      ]
    },
    {
      "cell_type": "code",
      "metadata": {
        "id": "6PmpOHwejh18",
        "outputId": "e5929bac-8ec6-4365-9cde-58c25857307d",
        "colab": {
          "base_uri": "https://localhost:8080/"
        }
      },
      "source": [
        " d = {\"sai\":\"kumar\",\"no\":12123,\"random\":\"nfsdns\"}\n",
        " d"
      ],
      "execution_count": 75,
      "outputs": [
        {
          "output_type": "execute_result",
          "data": {
            "text/plain": [
              "{'no': 12123, 'random': 'nfsdns', 'sai': 'kumar'}"
            ]
          },
          "metadata": {
            "tags": []
          },
          "execution_count": 75
        }
      ]
    },
    {
      "cell_type": "code",
      "metadata": {
        "id": "Du2d_FBFocQ-",
        "outputId": "7ebb47d7-92a5-4f37-b1a5-c0038c0e1878",
        "colab": {
          "base_uri": "https://localhost:8080/"
        }
      },
      "source": [
        "for i in d:\n",
        "  print (i)"
      ],
      "execution_count": 81,
      "outputs": [
        {
          "output_type": "stream",
          "text": [
            "sai\n",
            "no\n",
            "random\n"
          ],
          "name": "stdout"
        }
      ]
    },
    {
      "cell_type": "code",
      "metadata": {
        "id": "WRhRETCuo1eT",
        "outputId": "0fb50b55-3530-45ba-a606-5a41ea770e57",
        "colab": {
          "base_uri": "https://localhost:8080/"
        }
      },
      "source": [
        "for i in d.items():\n",
        "  print(i) #this is printing tuples of key value pairs\n",
        "  "
      ],
      "execution_count": 88,
      "outputs": [
        {
          "output_type": "stream",
          "text": [
            "('sai', 'kumar')\n",
            "('no', 12123)\n",
            "('random', 'nfsdns')\n"
          ],
          "name": "stdout"
        }
      ]
    },
    {
      "cell_type": "code",
      "metadata": {
        "id": "dkqxp8BZpAxX",
        "outputId": "9098ece1-6c33-4165-a331-a6821f25bd19",
        "colab": {
          "base_uri": "https://localhost:8080/"
        }
      },
      "source": [
        "for i in d.items():\n",
        "  print(i[1]) #as this is printing tuples of key value pairs, so we can fetch values by using [1] and keys [0]"
      ],
      "execution_count": 91,
      "outputs": [
        {
          "output_type": "stream",
          "text": [
            "kumar\n",
            "12123\n",
            "nfsdns\n"
          ],
          "name": "stdout"
        }
      ]
    },
    {
      "cell_type": "code",
      "metadata": {
        "id": "xcjTTK-AqRL7"
      },
      "source": [
        " "
      ],
      "execution_count": null,
      "outputs": []
    }
  ]
}