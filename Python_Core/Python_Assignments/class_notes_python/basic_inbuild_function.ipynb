{
  "nbformat": 4,
  "nbformat_minor": 0,
  "metadata": {
    "kernelspec": {
      "display_name": "Python 3",
      "language": "python",
      "name": "python3"
    },
    "language_info": {
      "codemirror_mode": {
        "name": "ipython",
        "version": 3
      },
      "file_extension": ".py",
      "mimetype": "text/x-python",
      "name": "python",
      "nbconvert_exporter": "python",
      "pygments_lexer": "ipython3",
      "version": "3.8.5"
    },
    "colab": {
      "name": "basic inbuild function.ipynb",
      "provenance": [],
      "include_colab_link": true
    }
  },
  "cells": [
    {
      "cell_type": "markdown",
      "metadata": {
        "id": "view-in-github",
        "colab_type": "text"
      },
      "source": [
        "<a href=\"https://colab.research.google.com/github/Sai-Kale/ML_ineuron/blob/master/Python_Core/Python_Assignments/class_notes_python/basic_inbuild_function.ipynb\" target=\"_parent\"><img src=\"https://colab.research.google.com/assets/colab-badge.svg\" alt=\"Open In Colab\"/></a>"
      ]
    },
    {
      "cell_type": "code",
      "metadata": {
        "id": "tdpgu4PeNvHO",
        "outputId": "c68cb15a-71d5-40a8-b0ea-0d1e9e72ebaf"
      },
      "source": [
        "l = [1,2,1,2,4,5,6]\n",
        "for i in  l:\n",
        "    print(i)"
      ],
      "execution_count": null,
      "outputs": [
        {
          "output_type": "stream",
          "text": [
            "1\n",
            "2\n",
            "1\n",
            "2\n",
            "4\n",
            "5\n",
            "6\n"
          ],
          "name": "stdout"
        }
      ]
    },
    {
      "cell_type": "code",
      "metadata": {
        "id": "KK68g7IVNvHQ",
        "outputId": "f77da1be-d54f-4fcd-eda8-199398512b23"
      },
      "source": [
        "for i in l:\n",
        "    print(i)\n",
        "else :\n",
        "    print(\"this will execute once for loop will complete iteslf \")"
      ],
      "execution_count": null,
      "outputs": [
        {
          "output_type": "stream",
          "text": [
            "1\n",
            "2\n",
            "1\n",
            "2\n",
            "4\n",
            "5\n",
            "6\n",
            "this will execute once for loop will complete iteslf \n"
          ],
          "name": "stdout"
        }
      ]
    },
    {
      "cell_type": "code",
      "metadata": {
        "id": "vyvU72IZNvHR",
        "outputId": "bc3afd29-e117-43f5-be49-0c4726fe4bfd"
      },
      "source": [
        "l"
      ],
      "execution_count": null,
      "outputs": [
        {
          "output_type": "execute_result",
          "data": {
            "text/plain": [
              "[1, 2, 1, 2, 4, 5, 6]"
            ]
          },
          "metadata": {
            "tags": []
          },
          "execution_count": 4
        }
      ]
    },
    {
      "cell_type": "code",
      "metadata": {
        "id": "IItIyGHONvHT",
        "outputId": "e82754d4-9f9e-439e-f516-edb955315566"
      },
      "source": [
        "for i in l :\n",
        "    print(i)\n",
        "    if i == 4:\n",
        "        print(\"break the statemetn\")\n",
        "        break\n",
        "else :\n",
        "    print(\"it will exexute this once for looop will be able to complte it self\") "
      ],
      "execution_count": null,
      "outputs": [
        {
          "output_type": "stream",
          "text": [
            "1\n",
            "2\n",
            "1\n",
            "2\n",
            "4\n",
            "break the statemetn\n"
          ],
          "name": "stdout"
        }
      ]
    },
    {
      "cell_type": "code",
      "metadata": {
        "id": "z5YRVn4uNvHT",
        "outputId": "76c32e6d-47de-479a-a72c-b34779a89d17"
      },
      "source": [
        "for i in l :\n",
        "    print(i)\n",
        "else :\n",
        "    print(\"try to perrofm some operation \")\n",
        "    for i in l :\n",
        "        print(\"fsfsf\")"
      ],
      "execution_count": null,
      "outputs": [
        {
          "output_type": "stream",
          "text": [
            "1\n",
            "2\n",
            "1\n",
            "2\n",
            "4\n",
            "5\n",
            "6\n",
            "try to perrofm some operation \n",
            "fsfsf\n",
            "fsfsf\n",
            "fsfsf\n",
            "fsfsf\n",
            "fsfsf\n",
            "fsfsf\n",
            "fsfsf\n"
          ],
          "name": "stdout"
        }
      ]
    },
    {
      "cell_type": "code",
      "metadata": {
        "id": "lPiYU1zRNvHT",
        "outputId": "098a9bae-1ea1-45c6-8360-dae72b5b3682"
      },
      "source": [
        "for i in range(0,7):\n",
        "    for j in range(0,i+1):\n",
        "        print(\" * \" , end = \"\")\n",
        "        \n",
        "    print(\"\\r\")\n",
        "    "
      ],
      "execution_count": null,
      "outputs": [
        {
          "output_type": "stream",
          "text": [
            " * \r\n",
            " *  * \r\n",
            " *  *  * \r\n",
            " *  *  *  * \r\n",
            " *  *  *  *  * \r\n",
            " *  *  *  *  *  * \r\n",
            " *  *  *  *  *  *  * \r\n"
          ],
          "name": "stdout"
        }
      ]
    },
    {
      "cell_type": "code",
      "metadata": {
        "id": "YqY-JS3UNvHU",
        "outputId": "8ff67634-b3cc-4dac-d637-71d49e745ee2"
      },
      "source": [
        "for i in range(0,7):\n",
        "    print(\"*\")"
      ],
      "execution_count": null,
      "outputs": [
        {
          "output_type": "stream",
          "text": [
            "*\n",
            "*\n",
            "*\n",
            "*\n",
            "*\n",
            "*\n",
            "*\n"
          ],
          "name": "stdout"
        }
      ]
    },
    {
      "cell_type": "code",
      "metadata": {
        "id": "eJwFwCxFNvHU",
        "outputId": "16317c98-e675-4168-83fb-3dfc3edd8141"
      },
      "source": [
        "a = 1\n",
        "while a <= 7 :\n",
        "    print(\"this is a valid statement \")\n",
        "    a = a + 1 "
      ],
      "execution_count": null,
      "outputs": [
        {
          "output_type": "stream",
          "text": [
            "this is a valid statement \n",
            "this is a valid statement \n",
            "this is a valid statement \n",
            "this is a valid statement \n",
            "this is a valid statement \n",
            "this is a valid statement \n",
            "this is a valid statement \n"
          ],
          "name": "stdout"
        }
      ]
    },
    {
      "cell_type": "code",
      "metadata": {
        "id": "2_7NdjFcNvHV",
        "outputId": "1bbcfda8-3f96-4b00-e3e9-4a41c5b39afb"
      },
      "source": [
        "x = 0 \n",
        "while x < 7 :\n",
        "    x = x  +1\n",
        "    if x == 4 :\n",
        "        continue\n",
        "    print(x)"
      ],
      "execution_count": null,
      "outputs": [
        {
          "output_type": "stream",
          "text": [
            "1\n",
            "2\n",
            "3\n",
            "5\n",
            "6\n",
            "7\n"
          ],
          "name": "stdout"
        }
      ]
    },
    {
      "cell_type": "code",
      "metadata": {
        "id": "91hibII1NvHW",
        "outputId": "c44b1488-684f-4089-d6f6-3008b484dba7"
      },
      "source": [
        "x = 0 \n",
        "while x < 7 :\n",
        "    x = x  +1\n",
        "    if x == 4 :\n",
        "        break\n",
        "    print(x)"
      ],
      "execution_count": null,
      "outputs": [
        {
          "output_type": "stream",
          "text": [
            "1\n",
            "2\n",
            "3\n"
          ],
          "name": "stdout"
        }
      ]
    },
    {
      "cell_type": "code",
      "metadata": {
        "id": "B6BFG4jVNvHW",
        "outputId": "e35d9e0d-de8e-4d78-9ef3-969469393918"
      },
      "source": [
        "for i in range(7):\n",
        "    if i == 4 : \n",
        "        continue\n",
        "    print(i)\n",
        "else :\n",
        "    print(\"check \")"
      ],
      "execution_count": null,
      "outputs": [
        {
          "output_type": "stream",
          "text": [
            "0\n",
            "1\n",
            "2\n",
            "3\n",
            "5\n",
            "6\n",
            "check \n"
          ],
          "name": "stdout"
        }
      ]
    },
    {
      "cell_type": "code",
      "metadata": {
        "id": "3D0ElffzNvHW"
      },
      "source": [
        "for i in range(7):\n",
        "    pass"
      ],
      "execution_count": null,
      "outputs": []
    },
    {
      "cell_type": "code",
      "metadata": {
        "id": "FZmT4q5VNvHX",
        "outputId": "19d502b2-8b76-43cb-8f9b-a5f04baf6915"
      },
      "source": [
        "i = 1\n",
        "note = 5\n",
        "while i <= note:\n",
        "    print(i)\n",
        "    i +=1\n",
        "print(\"val of i \" , i ) "
      ],
      "execution_count": null,
      "outputs": [
        {
          "output_type": "stream",
          "text": [
            "1\n",
            "2\n",
            "3\n",
            "4\n",
            "5\n",
            "val of i  6\n"
          ],
          "name": "stdout"
        }
      ]
    },
    {
      "cell_type": "code",
      "metadata": {
        "id": "mDeGN_E4NvHX"
      },
      "source": [
        "s = \"sudhhhsdfsfhh\""
      ],
      "execution_count": null,
      "outputs": []
    },
    {
      "cell_type": "code",
      "metadata": {
        "id": "awho6GBcNvHX",
        "outputId": "80833d4f-db79-4286-a062-469e3f8ed6f8"
      },
      "source": [
        "len(s)"
      ],
      "execution_count": null,
      "outputs": [
        {
          "output_type": "execute_result",
          "data": {
            "text/plain": [
              "13"
            ]
          },
          "metadata": {
            "tags": []
          },
          "execution_count": 40
        }
      ]
    },
    {
      "cell_type": "code",
      "metadata": {
        "id": "yVhcAjc4NvHX",
        "outputId": "e3eebcdc-d2cc-4983-8f2a-013a5a8bb837"
      },
      "source": [
        "s.find('h')"
      ],
      "execution_count": null,
      "outputs": [
        {
          "output_type": "execute_result",
          "data": {
            "text/plain": [
              "3"
            ]
          },
          "metadata": {
            "tags": []
          },
          "execution_count": 41
        }
      ]
    },
    {
      "cell_type": "code",
      "metadata": {
        "id": "upzqdv8FNvHY",
        "outputId": "e5bc73a6-edb0-4a75-be97-99f082235b39"
      },
      "source": [
        "s.find('s')"
      ],
      "execution_count": null,
      "outputs": [
        {
          "output_type": "execute_result",
          "data": {
            "text/plain": [
              "0"
            ]
          },
          "metadata": {
            "tags": []
          },
          "execution_count": 42
        }
      ]
    },
    {
      "cell_type": "code",
      "metadata": {
        "id": "ZhMJSnaTNvHY",
        "outputId": "b8f7b798-cd06-483a-c175-c44f6c60b62d"
      },
      "source": [
        "s.count('su')"
      ],
      "execution_count": null,
      "outputs": [
        {
          "output_type": "execute_result",
          "data": {
            "text/plain": [
              "1"
            ]
          },
          "metadata": {
            "tags": []
          },
          "execution_count": 46
        }
      ]
    },
    {
      "cell_type": "code",
      "metadata": {
        "id": "8MYGm4SPNvHY",
        "outputId": "98df33cd-4552-4bf4-9d13-fd511d30fd38"
      },
      "source": [
        "s.count('S')"
      ],
      "execution_count": null,
      "outputs": [
        {
          "output_type": "execute_result",
          "data": {
            "text/plain": [
              "0"
            ]
          },
          "metadata": {
            "tags": []
          },
          "execution_count": 47
        }
      ]
    },
    {
      "cell_type": "code",
      "metadata": {
        "id": "dnALyjbNNvHY",
        "outputId": "7f877665-e51b-43af-fa1d-539900217d93"
      },
      "source": [
        "s.find('sdfz')"
      ],
      "execution_count": null,
      "outputs": [
        {
          "output_type": "execute_result",
          "data": {
            "text/plain": [
              "-1"
            ]
          },
          "metadata": {
            "tags": []
          },
          "execution_count": 49
        }
      ]
    },
    {
      "cell_type": "code",
      "metadata": {
        "id": "hXXCfoKFNvHY",
        "outputId": "4aad8ccc-584c-4c98-c5de-9fcd3b525f12"
      },
      "source": [
        "s"
      ],
      "execution_count": null,
      "outputs": [
        {
          "output_type": "execute_result",
          "data": {
            "text/plain": [
              "'sudhhhsdfsfhh'"
            ]
          },
          "metadata": {
            "tags": []
          },
          "execution_count": 50
        }
      ]
    },
    {
      "cell_type": "code",
      "metadata": {
        "id": "u5XmjP4lNvHZ",
        "outputId": "75633c78-305f-489b-e82f-9557d58e3427"
      },
      "source": [
        "s.split('h')"
      ],
      "execution_count": null,
      "outputs": [
        {
          "output_type": "execute_result",
          "data": {
            "text/plain": [
              "['sud', '', '', 'sdfsf', '', '']"
            ]
          },
          "metadata": {
            "tags": []
          },
          "execution_count": 52
        }
      ]
    },
    {
      "cell_type": "code",
      "metadata": {
        "id": "30jDrBG3NvHZ"
      },
      "source": [
        "s = \"fds,fsdf,f,f,fsd,sdf,sdf,sdf,s,fs\""
      ],
      "execution_count": null,
      "outputs": []
    },
    {
      "cell_type": "code",
      "metadata": {
        "id": "0h05YVzdNvHZ",
        "outputId": "91cb2b0c-3398-4c8e-931f-1b8fcff92ac8"
      },
      "source": [
        "for i in s.split(','):\n",
        "    print(i)"
      ],
      "execution_count": null,
      "outputs": [
        {
          "output_type": "stream",
          "text": [
            "fds\n",
            "fsdf\n",
            "f\n",
            "f\n",
            "fsd\n",
            "sdf\n",
            "sdf\n",
            "sdf\n",
            "s\n",
            "fs\n"
          ],
          "name": "stdout"
        }
      ]
    },
    {
      "cell_type": "code",
      "metadata": {
        "id": "M-TNDXhHNvHZ"
      },
      "source": [
        "s = \"\"\"Google LLC is an American multinational technology company that specializes in Internet-related services and products, which include online advertising technologies, a search engine, cloud computing, software, and hardware. It is considered one of the five Big Tech companies along with Amazon, Facebook, Apple, and Microsoft.[9][10][11]\n",
        "\n",
        "Google was founded in September 1998 by Larry Page and Sergey Brin while they were Ph.D. students at Stanford University in California. Together they own about 14% of its shares and control 56% of the stockholder voting power through super-voting stock. Google was incorporated in California on September 4, 1998. Google was then reincorporated in Delaware on October 22, 2002.[12] In July 2003, Google moved to its headquarters in Mountain View, California, nicknamed the Googleplex. The company became a public company via an initial public offering (IPO) on August 19, 2004. In October 2015, Google reorganized as a subsidiary of a conglomerate called Alphabet Inc. Google is Alphabet's largest subsidiary and is a holding company for Alphabet's Internet interests. Sundar Pichai was appointed CEO of Google, replacing Larry Page, who became the CEO of Alphabet. In 2021, the Alphabet Workers Union was founded, mainly composed of Google employees.[13]\n",
        "\n",
        "The company's rapid growth since incorporation has included products, acquisitions, and partnerships beyond Google's core search engine, (Google Search). It offers services designed for work and productivity (Google Docs, Google Sheets, and Google Slides), email (Gmail), scheduling and time management (Google Calendar), cloud storage (Google Drive), instant messaging and video chat (Google Duo, Hangouts, Google Chat, and Google Meet), language translation (Google Translate), mapping and navigation (Google Maps, Waze, Google Earth, and Street View), podcast hosting (Google Podcasts), video sharing (YouTube), blog publishing (Blogger), note-taking (Google Keep and Jamboard), and photo organizing and editing (Google Photos). The company leads the development of the Android mobile operating system, the Google Chrome web browser, and Chrome OS, a lightweight operating system based on the Chrome browser. Google has moved increasingly into hardware; from 2010 to 2015, it partnered with major electronics manufacturers in the production of its Google Nexus devices, and it released multiple hardware products in October 2016, including the Google Pixel line of smartphones, Google Home smart speaker, Google Wifi mesh wireless router, and Google Daydream virtual reality headset. Google has also experimented with becoming an Internet carrier (Google Fiber, Google Fi, and Google Station).[14]\n",
        "\n",
        "Google.com is the most visited website worldwide. Several other Google-owned websites also are on the list of most popular websites, including YouTube and Blogger.[15]\n",
        "\n",
        "On the list of most valuable brands, Google is ranked second by Forbes[16] and fourth by Interbrand.[17] It has received significant criticism involving issues such as privacy concerns, tax avoidance, antitrust, censorship, and search neutrality.\"\"\""
      ],
      "execution_count": null,
      "outputs": []
    },
    {
      "cell_type": "code",
      "metadata": {
        "id": "A341Xc3oNvHa",
        "outputId": "1ab9a1b2-da69-4e69-9fa9-ea63b32a9b2d"
      },
      "source": [
        "s"
      ],
      "execution_count": null,
      "outputs": [
        {
          "output_type": "execute_result",
          "data": {
            "text/plain": [
              "\"Google LLC is an American multinational technology company that specializes in Internet-related services and products, which include online advertising technologies, a search engine, cloud computing, software, and hardware. It is considered one of the five Big Tech companies along with Amazon, Facebook, Apple, and Microsoft.[9][10][11]\\n\\nGoogle was founded in September 1998 by Larry Page and Sergey Brin while they were Ph.D. students at Stanford University in California. Together they own about 14% of its shares and control 56% of the stockholder voting power through super-voting stock. Google was incorporated in California on September 4, 1998. Google was then reincorporated in Delaware on October 22, 2002.[12] In July 2003, Google moved to its headquarters in Mountain View, California, nicknamed the Googleplex. The company became a public company via an initial public offering (IPO) on August 19, 2004. In October 2015, Google reorganized as a subsidiary of a conglomerate called Alphabet Inc. Google is Alphabet's largest subsidiary and is a holding company for Alphabet's Internet interests. Sundar Pichai was appointed CEO of Google, replacing Larry Page, who became the CEO of Alphabet. In 2021, the Alphabet Workers Union was founded, mainly composed of Google employees.[13]\\n\\nThe company's rapid growth since incorporation has included products, acquisitions, and partnerships beyond Google's core search engine, (Google Search). It offers services designed for work and productivity (Google Docs, Google Sheets, and Google Slides), email (Gmail), scheduling and time management (Google Calendar), cloud storage (Google Drive), instant messaging and video chat (Google Duo, Hangouts, Google Chat, and Google Meet), language translation (Google Translate), mapping and navigation (Google Maps, Waze, Google Earth, and Street View), podcast hosting (Google Podcasts), video sharing (YouTube), blog publishing (Blogger), note-taking (Google Keep and Jamboard), and photo organizing and editing (Google Photos). The company leads the development of the Android mobile operating system, the Google Chrome web browser, and Chrome OS, a lightweight operating system based on the Chrome browser. Google has moved increasingly into hardware; from 2010 to 2015, it partnered with major electronics manufacturers in the production of its Google Nexus devices, and it released multiple hardware products in October 2016, including the Google Pixel line of smartphones, Google Home smart speaker, Google Wifi mesh wireless router, and Google Daydream virtual reality headset. Google has also experimented with becoming an Internet carrier (Google Fiber, Google Fi, and Google Station).[14]\\n\\nGoogle.com is the most visited website worldwide. Several other Google-owned websites also are on the list of most popular websites, including YouTube and Blogger.[15]\\n\\nOn the list of most valuable brands, Google is ranked second by Forbes[16] and fourth by Interbrand.[17] It has received significant criticism involving issues such as privacy concerns, tax avoidance, antitrust, censorship, and search neutrality.\""
            ]
          },
          "metadata": {
            "tags": []
          },
          "execution_count": 58
        }
      ]
    },
    {
      "cell_type": "code",
      "metadata": {
        "id": "iSuytZXANvHa",
        "outputId": "3574ab64-f29f-4a47-8724-9e93c07095c8"
      },
      "source": [
        "for i in s.split('.'):\n",
        "    print(i)"
      ],
      "execution_count": null,
      "outputs": [
        {
          "output_type": "stream",
          "text": [
            "Google LLC is an American multinational technology company that specializes in Internet-related services and products, which include online advertising technologies, a search engine, cloud computing, software, and hardware\n",
            " It is considered one of the five Big Tech companies along with Amazon, Facebook, Apple, and Microsoft\n",
            "[9][10][11]\n",
            "\n",
            "Google was founded in September 1998 by Larry Page and Sergey Brin while they were Ph\n",
            "D\n",
            " students at Stanford University in California\n",
            " Together they own about 14% of its shares and control 56% of the stockholder voting power through super-voting stock\n",
            " Google was incorporated in California on September 4, 1998\n",
            " Google was then reincorporated in Delaware on October 22, 2002\n",
            "[12] In July 2003, Google moved to its headquarters in Mountain View, California, nicknamed the Googleplex\n",
            " The company became a public company via an initial public offering (IPO) on August 19, 2004\n",
            " In October 2015, Google reorganized as a subsidiary of a conglomerate called Alphabet Inc\n",
            " Google is Alphabet's largest subsidiary and is a holding company for Alphabet's Internet interests\n",
            " Sundar Pichai was appointed CEO of Google, replacing Larry Page, who became the CEO of Alphabet\n",
            " In 2021, the Alphabet Workers Union was founded, mainly composed of Google employees\n",
            "[13]\n",
            "\n",
            "The company's rapid growth since incorporation has included products, acquisitions, and partnerships beyond Google's core search engine, (Google Search)\n",
            " It offers services designed for work and productivity (Google Docs, Google Sheets, and Google Slides), email (Gmail), scheduling and time management (Google Calendar), cloud storage (Google Drive), instant messaging and video chat (Google Duo, Hangouts, Google Chat, and Google Meet), language translation (Google Translate), mapping and navigation (Google Maps, Waze, Google Earth, and Street View), podcast hosting (Google Podcasts), video sharing (YouTube), blog publishing (Blogger), note-taking (Google Keep and Jamboard), and photo organizing and editing (Google Photos)\n",
            " The company leads the development of the Android mobile operating system, the Google Chrome web browser, and Chrome OS, a lightweight operating system based on the Chrome browser\n",
            " Google has moved increasingly into hardware; from 2010 to 2015, it partnered with major electronics manufacturers in the production of its Google Nexus devices, and it released multiple hardware products in October 2016, including the Google Pixel line of smartphones, Google Home smart speaker, Google Wifi mesh wireless router, and Google Daydream virtual reality headset\n",
            " Google has also experimented with becoming an Internet carrier (Google Fiber, Google Fi, and Google Station)\n",
            "[14]\n",
            "\n",
            "Google\n",
            "com is the most visited website worldwide\n",
            " Several other Google-owned websites also are on the list of most popular websites, including YouTube and Blogger\n",
            "[15]\n",
            "\n",
            "On the list of most valuable brands, Google is ranked second by Forbes[16] and fourth by Interbrand\n",
            "[17] It has received significant criticism involving issues such as privacy concerns, tax avoidance, antitrust, censorship, and search neutrality\n",
            "\n"
          ],
          "name": "stdout"
        }
      ]
    },
    {
      "cell_type": "code",
      "metadata": {
        "id": "0rik59ewNvHa"
      },
      "source": [
        "s= s.split('.')"
      ],
      "execution_count": null,
      "outputs": []
    },
    {
      "cell_type": "code",
      "metadata": {
        "id": "aCYN3nP3NvHb"
      },
      "source": [
        "s1 = s[-2]"
      ],
      "execution_count": null,
      "outputs": []
    },
    {
      "cell_type": "code",
      "metadata": {
        "id": "JjETWj-oNvHb",
        "outputId": "5ccf65e0-bf14-4105-8a7a-e40765a38605"
      },
      "source": [
        "s1"
      ],
      "execution_count": null,
      "outputs": [
        {
          "output_type": "execute_result",
          "data": {
            "text/plain": [
              "'[17] It has received significant criticism involving issues such as privacy concerns, tax avoidance, antitrust, censorship, and search neutrality'"
            ]
          },
          "metadata": {
            "tags": []
          },
          "execution_count": 68
        }
      ]
    },
    {
      "cell_type": "code",
      "metadata": {
        "id": "3urQUxl4NvHb",
        "outputId": "f868446a-eb36-4799-e4b1-1a63b7c87e3a"
      },
      "source": [
        "s1.lower()"
      ],
      "execution_count": null,
      "outputs": [
        {
          "output_type": "execute_result",
          "data": {
            "text/plain": [
              "'[17] it has received significant criticism involving issues such as privacy concerns, tax avoidance, antitrust, censorship, and search neutrality'"
            ]
          },
          "metadata": {
            "tags": []
          },
          "execution_count": 69
        }
      ]
    },
    {
      "cell_type": "code",
      "metadata": {
        "id": "_AIYnu6DNvHb",
        "outputId": "eeade0ad-a820-4ca3-e7cb-cabdcefb047d"
      },
      "source": [
        "s1.upper()"
      ],
      "execution_count": null,
      "outputs": [
        {
          "output_type": "execute_result",
          "data": {
            "text/plain": [
              "'[17] IT HAS RECEIVED SIGNIFICANT CRITICISM INVOLVING ISSUES SUCH AS PRIVACY CONCERNS, TAX AVOIDANCE, ANTITRUST, CENSORSHIP, AND SEARCH NEUTRALITY'"
            ]
          },
          "metadata": {
            "tags": []
          },
          "execution_count": 70
        }
      ]
    },
    {
      "cell_type": "code",
      "metadata": {
        "id": "RkyHkqBINvHb",
        "outputId": "8d1cb832-ada6-483f-a823-c91ed3363a21"
      },
      "source": [
        "s1.title()"
      ],
      "execution_count": null,
      "outputs": [
        {
          "output_type": "execute_result",
          "data": {
            "text/plain": [
              "'[17] It Has Received Significant Criticism Involving Issues Such As Privacy Concerns, Tax Avoidance, Antitrust, Censorship, And Search Neutrality'"
            ]
          },
          "metadata": {
            "tags": []
          },
          "execution_count": 71
        }
      ]
    },
    {
      "cell_type": "code",
      "metadata": {
        "id": "x9Av6EHzNvHc",
        "outputId": "c6af77f2-fe99-4005-e639-39beb3c2deaa"
      },
      "source": [
        "s1.capitalize()"
      ],
      "execution_count": null,
      "outputs": [
        {
          "output_type": "execute_result",
          "data": {
            "text/plain": [
              "'[17] it has received significant criticism involving issues such as privacy concerns, tax avoidance, antitrust, censorship, and search neutrality'"
            ]
          },
          "metadata": {
            "tags": []
          },
          "execution_count": 72
        }
      ]
    },
    {
      "cell_type": "code",
      "metadata": {
        "id": "YAyNAF4oNvHc"
      },
      "source": [
        "s = \"sudh\""
      ],
      "execution_count": null,
      "outputs": []
    },
    {
      "cell_type": "code",
      "metadata": {
        "id": "w4JE6RAeNvHc",
        "outputId": "2593238b-01c6-484c-8720-f14d66ea06f6"
      },
      "source": [
        "s.center(30,'#')"
      ],
      "execution_count": null,
      "outputs": [
        {
          "output_type": "execute_result",
          "data": {
            "text/plain": [
              "'#############sudh#############'"
            ]
          },
          "metadata": {
            "tags": []
          },
          "execution_count": 74
        }
      ]
    },
    {
      "cell_type": "code",
      "metadata": {
        "id": "TLuIku69NvHc"
      },
      "source": [
        "s = \"    ineu    ron    \""
      ],
      "execution_count": null,
      "outputs": []
    },
    {
      "cell_type": "code",
      "metadata": {
        "id": "uWxUujcnNvHc",
        "outputId": "0d2109ed-0ea1-4c6f-ee40-d12f1047eef2"
      },
      "source": [
        "s"
      ],
      "execution_count": null,
      "outputs": [
        {
          "output_type": "execute_result",
          "data": {
            "text/plain": [
              "'    ineu    ron    '"
            ]
          },
          "metadata": {
            "tags": []
          },
          "execution_count": 82
        }
      ]
    },
    {
      "cell_type": "code",
      "metadata": {
        "id": "nqH0b3GYNvHc",
        "outputId": "08aad8b3-da82-4f7d-b28a-49ff622665e6"
      },
      "source": [
        "s.rstrip()"
      ],
      "execution_count": null,
      "outputs": [
        {
          "output_type": "execute_result",
          "data": {
            "text/plain": [
              "'    ineu    ron'"
            ]
          },
          "metadata": {
            "tags": []
          },
          "execution_count": 83
        }
      ]
    },
    {
      "cell_type": "code",
      "metadata": {
        "id": "7Is2lmCpNvHc",
        "outputId": "68e513b8-ace1-435e-a284-1478041916ce"
      },
      "source": [
        "s.lstrip()"
      ],
      "execution_count": null,
      "outputs": [
        {
          "output_type": "execute_result",
          "data": {
            "text/plain": [
              "'ineu    ron    '"
            ]
          },
          "metadata": {
            "tags": []
          },
          "execution_count": 84
        }
      ]
    },
    {
      "cell_type": "code",
      "metadata": {
        "id": "mHJySnBrNvHd",
        "outputId": "b5ed4125-cb8f-4658-a9d2-15d205f55360"
      },
      "source": [
        "s.strip()"
      ],
      "execution_count": null,
      "outputs": [
        {
          "output_type": "execute_result",
          "data": {
            "text/plain": [
              "'ineu    ron'"
            ]
          },
          "metadata": {
            "tags": []
          },
          "execution_count": 85
        }
      ]
    },
    {
      "cell_type": "code",
      "metadata": {
        "id": "ClPmTL4DNvHe"
      },
      "source": [
        "s = \"sudh\""
      ],
      "execution_count": null,
      "outputs": []
    },
    {
      "cell_type": "code",
      "metadata": {
        "id": "E5COEZH9NvHf",
        "outputId": "f069adf9-2717-429d-d63c-f043cf865410"
      },
      "source": [
        "s.join('zrb')"
      ],
      "execution_count": null,
      "outputs": [
        {
          "output_type": "execute_result",
          "data": {
            "text/plain": [
              "'zsudhrsudhb'"
            ]
          },
          "metadata": {
            "tags": []
          },
          "execution_count": 98
        }
      ]
    },
    {
      "cell_type": "code",
      "metadata": {
        "id": "SazexE1FNvHf",
        "outputId": "f7b14928-fd89-44d3-f076-cf810a37d3c6"
      },
      "source": [
        "s = \"sudh\"\n",
        "for i in \"zrb\":\n",
        "    s= i+s\n",
        "    print(s)"
      ],
      "execution_count": null,
      "outputs": [
        {
          "output_type": "stream",
          "text": [
            "zsudh\n",
            "rzsudh\n",
            "brzsudh\n"
          ],
          "name": "stdout"
        }
      ]
    },
    {
      "cell_type": "code",
      "metadata": {
        "id": "jK6HmY4RNvHf",
        "outputId": "382ddcc4-8d69-4792-db14-99cb10d83c93"
      },
      "source": [
        "t=('sunny','bunny','chinny') \n",
        "s='-'.join(t)\n",
        "s"
      ],
      "execution_count": null,
      "outputs": [
        {
          "output_type": "execute_result",
          "data": {
            "text/plain": [
              "'sunny-bunny-chinny'"
            ]
          },
          "metadata": {
            "tags": []
          },
          "execution_count": 103
        }
      ]
    },
    {
      "cell_type": "code",
      "metadata": {
        "id": "KJlIUMv9NvHg"
      },
      "source": [
        ""
      ],
      "execution_count": null,
      "outputs": []
    },
    {
      "cell_type": "code",
      "metadata": {
        "id": "k-tTAs0sNvHg"
      },
      "source": [
        ""
      ],
      "execution_count": null,
      "outputs": []
    },
    {
      "cell_type": "code",
      "metadata": {
        "id": "r5LutLJdNvHg"
      },
      "source": [
        ""
      ],
      "execution_count": null,
      "outputs": []
    },
    {
      "cell_type": "code",
      "metadata": {
        "id": "LHNE7UicNvHh",
        "outputId": "776b8e7f-9a6f-402c-f8b5-66c3f42b5d34"
      },
      "source": [
        "a <= 7 "
      ],
      "execution_count": null,
      "outputs": [
        {
          "output_type": "execute_result",
          "data": {
            "text/plain": [
              "False"
            ]
          },
          "metadata": {
            "tags": []
          },
          "execution_count": 24
        }
      ]
    },
    {
      "cell_type": "code",
      "metadata": {
        "id": "GNQ5aLL7NvHi",
        "outputId": "7efdc35b-589d-4e96-cb6e-e2a0aebfba2f"
      },
      "source": [
        "for i in range(0,6):\n",
        "    for j in range(0,6-i):\n",
        "        print(\" \", end = \"\")\n",
        "    for k in range(j,6):\n",
        "        print(\"* \", end = \"\")\n",
        "    \n",
        "    print(\"\\n\")\n"
      ],
      "execution_count": null,
      "outputs": [
        {
          "output_type": "stream",
          "text": [
            "      * \n",
            "\n",
            "     * * \n",
            "\n",
            "    * * * \n",
            "\n",
            "   * * * * \n",
            "\n",
            "  * * * * * \n",
            "\n",
            " * * * * * * \n",
            "\n"
          ],
          "name": "stdout"
        }
      ]
    },
    {
      "cell_type": "code",
      "metadata": {
        "id": "gpNl7B9eNvHi",
        "outputId": "79767c2c-a5f3-45a7-ffca-538546b88f98"
      },
      "source": [
        "s = \"ineurion i \"\n",
        "s.replace('i', 'sudh')"
      ],
      "execution_count": null,
      "outputs": [
        {
          "output_type": "execute_result",
          "data": {
            "text/plain": [
              "'sudhneursudhon sudh '"
            ]
          },
          "metadata": {
            "tags": []
          },
          "execution_count": 105
        }
      ]
    },
    {
      "cell_type": "code",
      "metadata": {
        "id": "n6jodYnMNvHi"
      },
      "source": [
        "s = 'sudh\\tineuron'"
      ],
      "execution_count": null,
      "outputs": []
    },
    {
      "cell_type": "code",
      "metadata": {
        "id": "mQ3NFKJ9NvHj",
        "outputId": "536afba7-5e7e-4f70-df02-00dc714747ae"
      },
      "source": [
        "s.expandtabs()"
      ],
      "execution_count": null,
      "outputs": [
        {
          "output_type": "execute_result",
          "data": {
            "text/plain": [
              "'sudh    ineuron'"
            ]
          },
          "metadata": {
            "tags": []
          },
          "execution_count": 109
        }
      ]
    },
    {
      "cell_type": "code",
      "metadata": {
        "id": "KkoWQRxlNvHj"
      },
      "source": [
        "s = \"Sudhsd546756\""
      ],
      "execution_count": null,
      "outputs": []
    },
    {
      "cell_type": "code",
      "metadata": {
        "id": "gkhTRk7LNvHj",
        "outputId": "d0b49e2d-a0fb-4ed9-fe89-bea6c0224462"
      },
      "source": [
        "s.isalpha()"
      ],
      "execution_count": null,
      "outputs": [
        {
          "output_type": "execute_result",
          "data": {
            "text/plain": [
              "False"
            ]
          },
          "metadata": {
            "tags": []
          },
          "execution_count": 121
        }
      ]
    },
    {
      "cell_type": "code",
      "metadata": {
        "id": "9xrK913aNvHk",
        "outputId": "1f6c2eaa-9dd4-4b6c-9959-8b4e004cc333"
      },
      "source": [
        "s.isalnum()"
      ],
      "execution_count": null,
      "outputs": [
        {
          "output_type": "execute_result",
          "data": {
            "text/plain": [
              "True"
            ]
          },
          "metadata": {
            "tags": []
          },
          "execution_count": 122
        }
      ]
    },
    {
      "cell_type": "code",
      "metadata": {
        "id": "tKbdcEoJNvHk",
        "outputId": "2212b577-9ac4-4331-9a16-1c9c86c96290"
      },
      "source": [
        "s.isdigit()"
      ],
      "execution_count": null,
      "outputs": [
        {
          "output_type": "execute_result",
          "data": {
            "text/plain": [
              "False"
            ]
          },
          "metadata": {
            "tags": []
          },
          "execution_count": 123
        }
      ]
    },
    {
      "cell_type": "code",
      "metadata": {
        "id": "M_lKeb60NvHl",
        "outputId": "f08b52d3-81e2-43e1-d66a-214b954a57eb"
      },
      "source": [
        "s.istitle()"
      ],
      "execution_count": null,
      "outputs": [
        {
          "output_type": "execute_result",
          "data": {
            "text/plain": [
              "True"
            ]
          },
          "metadata": {
            "tags": []
          },
          "execution_count": 127
        }
      ]
    },
    {
      "cell_type": "code",
      "metadata": {
        "id": "l9GUyqazNvHl"
      },
      "source": [
        "l = [1,2,3,43,4,5,6,6,6,67,\"sudh\" , \"kumar\"]"
      ],
      "execution_count": null,
      "outputs": []
    },
    {
      "cell_type": "code",
      "metadata": {
        "id": "hIPyab3sNvHl",
        "outputId": "f166b0b0-279e-48ac-bf81-9aac20c1080d"
      },
      "source": [
        "l"
      ],
      "execution_count": null,
      "outputs": [
        {
          "output_type": "execute_result",
          "data": {
            "text/plain": [
              "[1, 2, 3, 43, 4, 5, 6, 6, 6, 67, 'sudh', 'kumar']"
            ]
          },
          "metadata": {
            "tags": []
          },
          "execution_count": 129
        }
      ]
    },
    {
      "cell_type": "code",
      "metadata": {
        "id": "tjFa4IWMNvHm"
      },
      "source": [
        "l.append([2,3,4,5,6])"
      ],
      "execution_count": null,
      "outputs": []
    },
    {
      "cell_type": "code",
      "metadata": {
        "id": "oXtVB7_TNvHm",
        "outputId": "d933f5f1-6710-4b88-fcba-f655f3fb1746"
      },
      "source": [
        "l"
      ],
      "execution_count": null,
      "outputs": [
        {
          "output_type": "execute_result",
          "data": {
            "text/plain": [
              "[1, 2, 3, 43, 4, 5, 6, 6, 6, 67, 'sudh', 'kumar', 'xyz', [2, 3, 4, 5, 6]]"
            ]
          },
          "metadata": {
            "tags": []
          },
          "execution_count": 134
        }
      ]
    },
    {
      "cell_type": "code",
      "metadata": {
        "id": "mM-hpQ2VNvHm",
        "outputId": "af1cd1ee-931a-4e7c-e8c3-4d34aca9e2b7"
      },
      "source": [
        "l + [1,2,3,4,5,6,6]"
      ],
      "execution_count": null,
      "outputs": [
        {
          "output_type": "execute_result",
          "data": {
            "text/plain": [
              "[1,\n",
              " 2,\n",
              " 3,\n",
              " 43,\n",
              " 4,\n",
              " 5,\n",
              " 6,\n",
              " 6,\n",
              " 6,\n",
              " 67,\n",
              " 'sudh',\n",
              " 'kumar',\n",
              " 'xyz',\n",
              " [2, 3, 4, 5, 6],\n",
              " 1,\n",
              " 2,\n",
              " 3,\n",
              " 4,\n",
              " 5,\n",
              " 6,\n",
              " 6]"
            ]
          },
          "metadata": {
            "tags": []
          },
          "execution_count": 136
        }
      ]
    },
    {
      "cell_type": "code",
      "metadata": {
        "id": "pz4XLsufNvHn",
        "outputId": "699763da-c87b-4df9-c24a-0eb3d5887172"
      },
      "source": [
        "l"
      ],
      "execution_count": null,
      "outputs": [
        {
          "output_type": "execute_result",
          "data": {
            "text/plain": [
              "[1, 2, 3, 43, 4, 5, 6, 6, 6, 67, 'sudh', 'kumar', 'xyz', [2, 3, 4, 5, 6]]"
            ]
          },
          "metadata": {
            "tags": []
          },
          "execution_count": 137
        }
      ]
    },
    {
      "cell_type": "code",
      "metadata": {
        "id": "lqOl-0ZCNvHn",
        "outputId": "038fc6b3-73f3-4e58-ab02-ec2846a34f72"
      },
      "source": [
        "l.pop()"
      ],
      "execution_count": null,
      "outputs": [
        {
          "output_type": "execute_result",
          "data": {
            "text/plain": [
              "[2, 3, 4, 5, 6]"
            ]
          },
          "metadata": {
            "tags": []
          },
          "execution_count": 138
        }
      ]
    },
    {
      "cell_type": "code",
      "metadata": {
        "id": "WEsCQJMDNvHn",
        "outputId": "fdec0926-0d1c-4cfd-cd2c-8838bb23abaa"
      },
      "source": [
        "l"
      ],
      "execution_count": null,
      "outputs": [
        {
          "output_type": "execute_result",
          "data": {
            "text/plain": [
              "[1, 2, 3, 43, 4, 5, 6, 6, 6, 67, 'sudh', 'kumar', 'xyz']"
            ]
          },
          "metadata": {
            "tags": []
          },
          "execution_count": 139
        }
      ]
    },
    {
      "cell_type": "code",
      "metadata": {
        "id": "PTmicM9dNvHo",
        "outputId": "4f9fe87c-5c82-4e11-f976-316318303e9f"
      },
      "source": [
        "l.pop(2)"
      ],
      "execution_count": null,
      "outputs": [
        {
          "output_type": "execute_result",
          "data": {
            "text/plain": [
              "3"
            ]
          },
          "metadata": {
            "tags": []
          },
          "execution_count": 140
        }
      ]
    },
    {
      "cell_type": "code",
      "metadata": {
        "id": "PTeDxQMtNvHo",
        "outputId": "ee90a362-2890-4405-ea04-2289265a3a21"
      },
      "source": [
        "l"
      ],
      "execution_count": null,
      "outputs": [
        {
          "output_type": "execute_result",
          "data": {
            "text/plain": [
              "[1, 2, 43, 4, 5, 6, 6, 6, 67, 'sudh', 'kumar', 'xyz']"
            ]
          },
          "metadata": {
            "tags": []
          },
          "execution_count": 141
        }
      ]
    },
    {
      "cell_type": "code",
      "metadata": {
        "id": "j9jXsNhgNvHo",
        "outputId": "62bf06f6-600e-415e-e404-14150fb3874c"
      },
      "source": [
        "l"
      ],
      "execution_count": null,
      "outputs": [
        {
          "output_type": "execute_result",
          "data": {
            "text/plain": [
              "[1, 2, 43, 4, 5, 6, 6, 6, 67, 'sudh', 'kumar', 'xyz']"
            ]
          },
          "metadata": {
            "tags": []
          },
          "execution_count": 143
        }
      ]
    },
    {
      "cell_type": "code",
      "metadata": {
        "id": "X4Xzv-EYNvHp"
      },
      "source": [
        "l.reverse()"
      ],
      "execution_count": null,
      "outputs": []
    },
    {
      "cell_type": "code",
      "metadata": {
        "id": "Z5P9nRsWNvHp",
        "outputId": "bae036c4-e5bc-47e2-9f48-abda98a8bd06"
      },
      "source": [
        "l"
      ],
      "execution_count": null,
      "outputs": [
        {
          "output_type": "execute_result",
          "data": {
            "text/plain": [
              "['xyz', 'kumar', 'sudh', 67, 6, 6, 6, 5, 4, 43, 2, 1]"
            ]
          },
          "metadata": {
            "tags": []
          },
          "execution_count": 145
        }
      ]
    },
    {
      "cell_type": "code",
      "metadata": {
        "id": "cS0uvkCDNvHq",
        "outputId": "17eb5ab8-e05a-4b4e-963f-8480739516bb"
      },
      "source": [
        "l = l[::-1]"
      ],
      "execution_count": null,
      "outputs": [
        {
          "output_type": "execute_result",
          "data": {
            "text/plain": [
              "[1, 2, 43, 4, 5, 6, 6, 6, 67, 'sudh', 'kumar', 'xyz']"
            ]
          },
          "metadata": {
            "tags": []
          },
          "execution_count": 146
        }
      ]
    },
    {
      "cell_type": "code",
      "metadata": {
        "id": "6Ke3M_OGNvHq",
        "outputId": "1b301996-492f-42a6-d66a-7ffb548cddcf"
      },
      "source": [
        "l"
      ],
      "execution_count": null,
      "outputs": [
        {
          "output_type": "execute_result",
          "data": {
            "text/plain": [
              "['xyz', 'kumar', 'sudh', 67, 6, 6, 6, 5, 4, 43, 2, 1]"
            ]
          },
          "metadata": {
            "tags": []
          },
          "execution_count": 147
        }
      ]
    },
    {
      "cell_type": "code",
      "metadata": {
        "id": "he7HoBt5NvHq",
        "outputId": "10ba01ec-d974-42a7-ebd6-3ac338d9ef80"
      },
      "source": [
        "l.sort()"
      ],
      "execution_count": null,
      "outputs": [
        {
          "output_type": "error",
          "ename": "TypeError",
          "evalue": "'<' not supported between instances of 'int' and 'str'",
          "traceback": [
            "\u001b[1;31m---------------------------------------------------------------------------\u001b[0m",
            "\u001b[1;31mTypeError\u001b[0m                                 Traceback (most recent call last)",
            "\u001b[1;32m<ipython-input-148-fb07ac7c73ab>\u001b[0m in \u001b[0;36m<module>\u001b[1;34m\u001b[0m\n\u001b[1;32m----> 1\u001b[1;33m \u001b[0ml\u001b[0m\u001b[1;33m.\u001b[0m\u001b[0msort\u001b[0m\u001b[1;33m(\u001b[0m\u001b[1;33m)\u001b[0m\u001b[1;33m\u001b[0m\u001b[1;33m\u001b[0m\u001b[0m\n\u001b[0m",
            "\u001b[1;31mTypeError\u001b[0m: '<' not supported between instances of 'int' and 'str'"
          ]
        }
      ]
    },
    {
      "cell_type": "code",
      "metadata": {
        "id": "pRpHwr1hNvHr",
        "outputId": "4347dc87-368b-4f09-b58f-b29210187620"
      },
      "source": [
        "l"
      ],
      "execution_count": null,
      "outputs": [
        {
          "output_type": "execute_result",
          "data": {
            "text/plain": [
              "['kumar', 'sudh', 'xyz', 67, 6, 6, 6, 5, 4, 43, 2, 1]"
            ]
          },
          "metadata": {
            "tags": []
          },
          "execution_count": 149
        }
      ]
    },
    {
      "cell_type": "code",
      "metadata": {
        "id": "kaco3LiUNvHr"
      },
      "source": [
        "l = [\"a\",\"sudh\",\"fsdfs\"]"
      ],
      "execution_count": null,
      "outputs": []
    },
    {
      "cell_type": "code",
      "metadata": {
        "id": "d4DTKgQ0NvHr"
      },
      "source": [
        "l.sort()"
      ],
      "execution_count": null,
      "outputs": []
    },
    {
      "cell_type": "code",
      "metadata": {
        "id": "iyCH6lIkNvHs",
        "outputId": "538df59e-fb7e-4b75-e7ec-9062aa2be86a"
      },
      "source": [
        "l"
      ],
      "execution_count": null,
      "outputs": [
        {
          "output_type": "execute_result",
          "data": {
            "text/plain": [
              "['a', 'fsdfs', 'sudh']"
            ]
          },
          "metadata": {
            "tags": []
          },
          "execution_count": 158
        }
      ]
    },
    {
      "cell_type": "code",
      "metadata": {
        "id": "Wg7YqwMwNvHs"
      },
      "source": [
        "l = [ 43, 2, 1]"
      ],
      "execution_count": null,
      "outputs": []
    },
    {
      "cell_type": "code",
      "metadata": {
        "id": "9lXIjQ4vNvHs"
      },
      "source": [
        "l.extend((4,6,8))"
      ],
      "execution_count": null,
      "outputs": []
    },
    {
      "cell_type": "code",
      "metadata": {
        "id": "sqEBv8Y-NvHs",
        "outputId": "2413c82e-0ad2-42a1-9ff5-7598a1d9ab1f"
      },
      "source": [
        "l"
      ],
      "execution_count": null,
      "outputs": [
        {
          "output_type": "execute_result",
          "data": {
            "text/plain": [
              "[43, 2, 1, 4, 6, 8]"
            ]
          },
          "metadata": {
            "tags": []
          },
          "execution_count": 171
        }
      ]
    },
    {
      "cell_type": "code",
      "metadata": {
        "id": "h3AeWEpeNvHt"
      },
      "source": [
        ""
      ],
      "execution_count": null,
      "outputs": []
    },
    {
      "cell_type": "code",
      "metadata": {
        "id": "_fOe50bHNvHt",
        "outputId": "6fad72f8-2121-4f76-ac08-f314e2b8d53d"
      },
      "source": [
        "l"
      ],
      "execution_count": null,
      "outputs": [
        {
          "output_type": "execute_result",
          "data": {
            "text/plain": [
              "[43, 2, 1, 'f', 'a', 's', 'd', 's', 'a', 'f']"
            ]
          },
          "metadata": {
            "tags": []
          },
          "execution_count": 166
        }
      ]
    },
    {
      "cell_type": "code",
      "metadata": {
        "id": "koWD2hhyNvHt"
      },
      "source": [
        "l.append(\"fsdfasf\")"
      ],
      "execution_count": null,
      "outputs": []
    },
    {
      "cell_type": "code",
      "metadata": {
        "id": "GOEzg86qNvHt",
        "outputId": "30a40d45-628b-4c2a-e70a-24fd71ca7984"
      },
      "source": [
        "l"
      ],
      "execution_count": null,
      "outputs": [
        {
          "output_type": "execute_result",
          "data": {
            "text/plain": [
              "['kumar',\n",
              " 'sudh',\n",
              " 'xyz',\n",
              " 67,\n",
              " 6,\n",
              " 6,\n",
              " 6,\n",
              " 5,\n",
              " 4,\n",
              " 43,\n",
              " 2,\n",
              " 1,\n",
              " 'f',\n",
              " 'a',\n",
              " 's',\n",
              " 'd',\n",
              " 's',\n",
              " 'a',\n",
              " 'f',\n",
              " 'fsdfasf']"
            ]
          },
          "metadata": {
            "tags": []
          },
          "execution_count": 163
        }
      ]
    },
    {
      "cell_type": "code",
      "metadata": {
        "id": "mKmSh9cYNvHu"
      },
      "source": [
        "l = [4,3,5]"
      ],
      "execution_count": null,
      "outputs": []
    },
    {
      "cell_type": "code",
      "metadata": {
        "id": "DMHfcvSjNvHu",
        "outputId": "f212b573-709d-4d32-b1da-cfa3941c189b"
      },
      "source": [
        "l+ [\"sudh\",6,7,8,[4,5,6,7,8]]"
      ],
      "execution_count": null,
      "outputs": [
        {
          "output_type": "execute_result",
          "data": {
            "text/plain": [
              "[4, 3, 5, 'sudh', 6, 7, 8, [4, 5, 6, 7, 8]]"
            ]
          },
          "metadata": {
            "tags": []
          },
          "execution_count": 182
        }
      ]
    },
    {
      "cell_type": "code",
      "metadata": {
        "id": "NTTeEgKXNvHu"
      },
      "source": [
        "l.append([\"sudh\",6,7,8,[4,5,6,7,8]])"
      ],
      "execution_count": null,
      "outputs": []
    },
    {
      "cell_type": "code",
      "metadata": {
        "id": "8NDoRWPhNvHu",
        "outputId": "e8d34975-e9a0-47b0-f792-625b6578fd47"
      },
      "source": [
        "l"
      ],
      "execution_count": null,
      "outputs": [
        {
          "output_type": "execute_result",
          "data": {
            "text/plain": [
              "[4, 3, 5, 'sudh1', ['sudh', 6, 7, 8, [4, 5, 6, 7, 8]]]"
            ]
          },
          "metadata": {
            "tags": []
          },
          "execution_count": 187
        }
      ]
    },
    {
      "cell_type": "code",
      "metadata": {
        "id": "b6SvKv4GNvHu"
      },
      "source": [
        ""
      ],
      "execution_count": null,
      "outputs": []
    },
    {
      "cell_type": "code",
      "metadata": {
        "id": "uLGmUxXsNvHv"
      },
      "source": [
        ""
      ],
      "execution_count": null,
      "outputs": []
    },
    {
      "cell_type": "code",
      "metadata": {
        "id": "kKk-STBNNvHv"
      },
      "source": [
        "l.extend(['sudh', 6, 7, 8, [4, 5, 6, 7, 8]])"
      ],
      "execution_count": null,
      "outputs": []
    },
    {
      "cell_type": "code",
      "metadata": {
        "id": "fMuHc2ZbNvHv",
        "outputId": "225c1726-a540-4642-8d81-233a65eb0a89"
      },
      "source": [
        "l"
      ],
      "execution_count": null,
      "outputs": [
        {
          "output_type": "execute_result",
          "data": {
            "text/plain": [
              "[4, 3, 5, 's', 'u', 'd', 'h', '2', 'sudh', 6, 7, 8, [4, 5, 6, 7, 8]]"
            ]
          },
          "metadata": {
            "tags": []
          },
          "execution_count": 194
        }
      ]
    },
    {
      "cell_type": "code",
      "metadata": {
        "id": "x7ZaDLriNvHv"
      },
      "source": [
        "l = [1,2,3,4,4,4,4,4,4,3,4,5,6,7]"
      ],
      "execution_count": null,
      "outputs": []
    },
    {
      "cell_type": "code",
      "metadata": {
        "id": "NrIQ4YwKNvHv",
        "outputId": "d2a3cff2-0452-4a66-ce7f-fec1f6ce6882"
      },
      "source": [
        "l.count(40)"
      ],
      "execution_count": null,
      "outputs": [
        {
          "output_type": "execute_result",
          "data": {
            "text/plain": [
              "0"
            ]
          },
          "metadata": {
            "tags": []
          },
          "execution_count": 199
        }
      ]
    },
    {
      "cell_type": "code",
      "metadata": {
        "id": "e3jGlcRzNvHv",
        "outputId": "3ba12b17-3023-4c42-ab68-0bf3f5b8b226"
      },
      "source": [
        "l.index(4)"
      ],
      "execution_count": null,
      "outputs": [
        {
          "output_type": "execute_result",
          "data": {
            "text/plain": [
              "3"
            ]
          },
          "metadata": {
            "tags": []
          },
          "execution_count": 201
        }
      ]
    },
    {
      "cell_type": "code",
      "metadata": {
        "id": "mVKnODfJNvHw"
      },
      "source": [
        ""
      ],
      "execution_count": null,
      "outputs": []
    },
    {
      "cell_type": "code",
      "metadata": {
        "id": "NLt3pOXaNvHw"
      },
      "source": [
        "l= [1, 2, 3, 4, 4, 4]"
      ],
      "execution_count": null,
      "outputs": []
    },
    {
      "cell_type": "code",
      "metadata": {
        "id": "Fyj-qOE1NvHw"
      },
      "source": [
        "l.insert(2,\"sudh\")"
      ],
      "execution_count": null,
      "outputs": []
    },
    {
      "cell_type": "code",
      "metadata": {
        "id": "NuBA7o9iNvHw",
        "outputId": "5095c597-4c5a-40fc-85aa-ecf5f0e8892d"
      },
      "source": [
        "l"
      ],
      "execution_count": null,
      "outputs": [
        {
          "output_type": "execute_result",
          "data": {
            "text/plain": [
              "[1, 2, 'sudh', 3, 4, 4, 4]"
            ]
          },
          "metadata": {
            "tags": []
          },
          "execution_count": 206
        }
      ]
    },
    {
      "cell_type": "code",
      "metadata": {
        "id": "zTkY6bHhNvHw",
        "outputId": "606a78eb-10eb-451b-9dff-406591ae7afa"
      },
      "source": [
        " l"
      ],
      "execution_count": null,
      "outputs": [
        {
          "output_type": "execute_result",
          "data": {
            "text/plain": [
              "['kushal', 1, 4, 56, 67, [5, 7, 7]]"
            ]
          },
          "metadata": {
            "tags": []
          },
          "execution_count": 208
        }
      ]
    },
    {
      "cell_type": "code",
      "metadata": {
        "id": "vQJEJ7KKNvHx"
      },
      "source": [
        "l.remove([5, 7, 7])"
      ],
      "execution_count": null,
      "outputs": []
    },
    {
      "cell_type": "code",
      "metadata": {
        "id": "B0J0mMbtNvHx"
      },
      "source": [
        "l = [1,2,2,3,3,34,54,5,56]"
      ],
      "execution_count": null,
      "outputs": []
    },
    {
      "cell_type": "code",
      "metadata": {
        "id": "U8wmrLNjNvHx",
        "outputId": "373d75fc-71f2-4c5b-9141-75dcad42db8e"
      },
      "source": [
        "l"
      ],
      "execution_count": null,
      "outputs": [
        {
          "output_type": "execute_result",
          "data": {
            "text/plain": [
              "[1, 2, 2, 3, 3, 34, 54, 5, 56]"
            ]
          },
          "metadata": {
            "tags": []
          },
          "execution_count": 217
        }
      ]
    },
    {
      "cell_type": "code",
      "metadata": {
        "id": "zcN5_Ar_NvHy"
      },
      "source": [
        "l.remove(2)"
      ],
      "execution_count": null,
      "outputs": []
    },
    {
      "cell_type": "code",
      "metadata": {
        "id": "fMQfmr1bNvHy",
        "outputId": "560542f7-da7e-4085-ed79-424971648b82"
      },
      "source": [
        "l"
      ],
      "execution_count": null,
      "outputs": [
        {
          "output_type": "execute_result",
          "data": {
            "text/plain": [
              "[1, 2, 3, 3, 34, 54, 5, 56]"
            ]
          },
          "metadata": {
            "tags": []
          },
          "execution_count": 219
        }
      ]
    },
    {
      "cell_type": "code",
      "metadata": {
        "id": "f4G1zti-NvHy"
      },
      "source": [
        "t = (3,4,5,6,7,8,8)"
      ],
      "execution_count": null,
      "outputs": []
    },
    {
      "cell_type": "code",
      "metadata": {
        "id": "RbYCocNjNvHy"
      },
      "source": [
        ""
      ],
      "execution_count": null,
      "outputs": []
    }
  ]
}