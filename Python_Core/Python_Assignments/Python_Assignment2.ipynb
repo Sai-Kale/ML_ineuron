{
 "cells": [
  {
   "cell_type": "code",
   "execution_count": 25,
   "id": "c14845f4-bc9a-4e5d-a724-e4b5a5505256",
   "metadata": {},
   "outputs": [
    {
     "name": "stdout",
     "output_type": "stream",
     "text": [
      "* \n",
      "* * \n",
      "* * * \n",
      "* * * * \n",
      "* * * * * \n",
      "* * * * * \n",
      "* * * * \n",
      "* * * \n",
      "* * \n",
      "* \n"
     ]
    }
   ],
   "source": [
    "for i in range(1,6):\n",
    "    print(\"* \"*i)\n",
    "    if ( i == 5):\n",
    "        print(*[j*\"* \" for j in range(5,0,-1)], sep=\"\\n\") # (* in front of List Comprehension prints the individual values instead of a List and sep is used to print in each new line)\n",
    "        #print('\\n'.join(map(str,[j*\"* \" for j in range(5,0,-1)])))     Using the map function also we can achieve above"
   ]
  },
  {
   "cell_type": "code",
   "execution_count": 28,
   "id": "dc896973-36c3-4a53-b3a6-2472cecc7898",
   "metadata": {},
   "outputs": [
    {
     "name": "stdin",
     "output_type": "stream",
     "text": [
      "Enter the String:  inueron\n"
     ]
    },
    {
     "name": "stdout",
     "output_type": "stream",
     "text": [
      "noreuni\n"
     ]
    }
   ],
   "source": [
    "user_input=input(\"Enter the String: \")\n",
    "print(user_input[::-1]) # [::-1] is used to reverse a string"
   ]
  }
 ],
 "metadata": {
  "kernelspec": {
   "display_name": "Python 3",
   "language": "python",
   "name": "python3"
  },
  "language_info": {
   "codemirror_mode": {
    "name": "ipython",
    "version": 3
   },
   "file_extension": ".py",
   "mimetype": "text/x-python",
   "name": "python",
   "nbconvert_exporter": "python",
   "pygments_lexer": "ipython3",
   "version": "3.9.5"
  }
 },
 "nbformat": 4,
 "nbformat_minor": 5
}
